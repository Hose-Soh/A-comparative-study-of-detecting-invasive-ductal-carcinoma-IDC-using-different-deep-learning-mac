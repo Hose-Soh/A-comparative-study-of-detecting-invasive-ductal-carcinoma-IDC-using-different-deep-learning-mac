{
 "cells": [
  {
   "cell_type": "code",
   "execution_count": 2,
   "metadata": {},
   "outputs": [],
   "source": [
    "import cv2\n",
    "import pandas as pd\n",
    "import numpy as np\n",
    "import glob,os"
   ]
  },
  {
   "cell_type": "code",
   "execution_count": 2,
   "metadata": {},
   "outputs": [
    {
     "name": "stdout",
     "output_type": "stream",
     "text": [
      "Number of the patient : 279\n"
     ]
    }
   ],
   "source": [
    "image_pathes='archive/*'\n",
    "patient_list = list(glob.glob(image_pathes))\n",
    "print('Number of the patient :'+' '+str(len(patient_list)))\n",
    "# print(patient_list)"
   ]
  },
  {
   "cell_type": "code",
   "execution_count": 3,
   "metadata": {},
   "outputs": [
    {
     "name": "stdout",
     "output_type": "stream",
     "text": [
      "277524\n"
     ]
    }
   ],
   "source": [
    "# total images in both cancerous and non-cancerous cell\n",
    "sum = 0\n",
    "for i in range(len(patient_list)):\n",
    "    sum+=len(glob.glob(patient_list[i]+'/*/*'))\n",
    "print(sum)"
   ]
  },
  {
   "cell_type": "code",
   "execution_count": 4,
   "metadata": {},
   "outputs": [
    {
     "name": "stdout",
     "output_type": "stream",
     "text": [
      "279\n"
     ]
    }
   ],
   "source": [
    "# loading all the image locations \n",
    "# patient_list(archive/patient_class)/0 or 1()/image\n",
    "all_image=[]\n",
    "for i in range(len(patient_list)):\n",
    "#     print(patient_list[i])\n",
    "#     print(glob.glob(patient_list[i]+'/*/*'))\n",
    "    if i==279:\n",
    "        print(glob.glob(patient_list[i]+'/*/*'))\n",
    "    all_image.append(glob.glob(patient_list[i]+'/*/*'))\n",
    "\n",
    "print(len(all_image))\n",
    "# print(all_image)"
   ]
  },
  {
   "cell_type": "code",
   "execution_count": 5,
   "metadata": {},
   "outputs": [
    {
     "data": {
      "text/plain": [
       "<matplotlib.image.AxesImage at 0x7fde7c6a7430>"
      ]
     },
     "execution_count": 5,
     "metadata": {},
     "output_type": "execute_result"
    },
    {
     "data": {
      "image/png": "[encoded data removed]",
      "text/plain": [
       "<Figure size 432x288 with 1 Axes>"
      ]
     },
     "metadata": {
      "needs_background": "light"
     },
     "output_type": "display_data"
    }
   ],
   "source": [
    "# sample\n",
    "import skimage\n",
    "from skimage.io import imread , imread_collection \n",
    "import matplotlib.pyplot as plt\n",
    "# print((all_image[0]))\n",
    "img_sample = imread(all_image[0][0])\n",
    "plt.title('patienID:'\n",
    "          +str(all_image[2][0].split('/')[1])+'\\n'\n",
    "         'class:'+str(all_image[2][0].split('/')[2]))\n",
    "plt.imshow(img_sample)"
   ]
  },
  {
   "cell_type": "code",
   "execution_count": 49,
   "metadata": {},
   "outputs": [],
   "source": [
    "# creating dataframe\n",
    "patient_id=[all_image[i][j].split('/')[1] for i in range(0,len(all_image)) for j in range(0,len(all_image[i]))]\n",
    "# print(patient_id)\n",
    "class_test=[all_image[i][j].split('/')[2] for i in range(0,len(all_image)) for j in range(0,len(all_image[i]))]\n",
    "# print(class_test)\n",
    "patient_pathes = [all_image[i][x]for i in range(0,len(all_image))for x in range(0,len(all_image[i]))]\n"
   ]
  },
  {
   "cell_type": "code",
   "execution_count": 50,
   "metadata": {},
   "outputs": [],
   "source": [
    "df_original=pd.DataFrame({\n",
    "    'Patient ID':patient_id,\n",
    "    'Diagnosis':class_test,\n",
    "    'Pathes':patient_pathes\n",
    "})"
   ]
  },
  {
   "cell_type": "code",
   "execution_count": 51,
   "metadata": {},
   "outputs": [],
   "source": [
    "df_original.to_csv('Original_data.csv')"
   ]
  },
  {
   "cell_type": "code",
   "execution_count": 3,
   "metadata": {},
   "outputs": [
    {
     "data": {
      "text/html": [
       "<div>\n",
       "<style scoped>\n",
       "    .dataframe tbody tr th:only-of-type {\n",
       "        vertical-align: middle;\n",
       "    }\n",
       "\n",
       "    .dataframe tbody tr th {\n",
       "        vertical-align: top;\n",
       "    }\n",
       "\n",
       "    .dataframe thead th {\n",
       "        text-align: right;\n",
       "    }\n",
       "</style>\n",
       "<table border=\"1\" class=\"dataframe\">\n",
       "  <thead>\n",
       "    <tr style=\"text-align: right;\">\n",
       "      <th></th>\n",
       "      <th>Unnamed: 0</th>\n",
       "      <th>Patient ID</th>\n",
       "      <th>Diagnosis</th>\n",
       "      <th>Pathes</th>\n",
       "    </tr>\n",
       "  </thead>\n",
       "  <tbody>\n",
       "    <tr>\n",
       "      <th>0</th>\n",
       "      <td>0</td>\n",
       "      <td>16014</td>\n",
       "      <td>1</td>\n",
       "      <td>archive/16014/1/16014_idx5_x951_y851_class1.png</td>\n",
       "    </tr>\n",
       "  </tbody>\n",
       "</table>\n",
       "</div>"
      ],
      "text/plain": [
       "   Unnamed: 0  Patient ID  Diagnosis  \\\n",
       "0           0       16014          1   \n",
       "\n",
       "                                            Pathes  \n",
       "0  archive/16014/1/16014_idx5_x951_y851_class1.png  "
      ]
     },
     "execution_count": 3,
     "metadata": {},
     "output_type": "execute_result"
    }
   ],
   "source": [
    "df_original=pd.read_csv('Original_data.csv')\n",
    "df_original.head(n=1)"
   ]
  },
  {
   "cell_type": "code",
   "execution_count": 4,
   "metadata": {},
   "outputs": [
    {
     "data": {
      "text/html": [
       "<div>\n",
       "<style scoped>\n",
       "    .dataframe tbody tr th:only-of-type {\n",
       "        vertical-align: middle;\n",
       "    }\n",
       "\n",
       "    .dataframe tbody tr th {\n",
       "        vertical-align: top;\n",
       "    }\n",
       "\n",
       "    .dataframe thead th {\n",
       "        text-align: right;\n",
       "    }\n",
       "</style>\n",
       "<table border=\"1\" class=\"dataframe\">\n",
       "  <thead>\n",
       "    <tr style=\"text-align: right;\">\n",
       "      <th></th>\n",
       "      <th>Patient ID</th>\n",
       "      <th>Diagnosis</th>\n",
       "      <th>Pathes</th>\n",
       "    </tr>\n",
       "  </thead>\n",
       "  <tbody>\n",
       "    <tr>\n",
       "      <th>0</th>\n",
       "      <td>16014</td>\n",
       "      <td>1</td>\n",
       "      <td>archive/16014/1/16014_idx5_x951_y851_class1.png</td>\n",
       "    </tr>\n",
       "  </tbody>\n",
       "</table>\n",
       "</div>"
      ],
      "text/plain": [
       "   Patient ID  Diagnosis                                           Pathes\n",
       "0       16014          1  archive/16014/1/16014_idx5_x951_y851_class1.png"
      ]
     },
     "execution_count": 4,
     "metadata": {},
     "output_type": "execute_result"
    }
   ],
   "source": [
    "df_original=df_original.drop(labels='Unnamed: 0',axis=1)\n",
    "df_original.head(n=1)"
   ]
  },
  {
   "cell_type": "markdown",
   "metadata": {},
   "source": [
    "<b>train test split</b>"
   ]
  },
  {
   "cell_type": "code",
   "execution_count": 5,
   "metadata": {},
   "outputs": [],
   "source": [
    "from sklearn.model_selection import train_test_split\n",
    "df_train,df_test=train_test_split(df_original,test_size=0.4,)"
   ]
  },
  {
   "cell_type": "code",
   "execution_count": 6,
   "metadata": {},
   "outputs": [],
   "source": [
    "df_train.to_csv('train_data.csv')\n",
    "df_test.to_csv('test_data.csv')"
   ]
  },
  {
   "cell_type": "code",
   "execution_count": 7,
   "metadata": {},
   "outputs": [
    {
     "name": "stdout",
     "output_type": "stream",
     "text": [
      "166514\n"
     ]
    },
    {
     "data": {
      "text/html": [
       "<div>\n",
       "<style scoped>\n",
       "    .dataframe tbody tr th:only-of-type {\n",
       "        vertical-align: middle;\n",
       "    }\n",
       "\n",
       "    .dataframe tbody tr th {\n",
       "        vertical-align: top;\n",
       "    }\n",
       "\n",
       "    .dataframe thead th {\n",
       "        text-align: right;\n",
       "    }\n",
       "</style>\n",
       "<table border=\"1\" class=\"dataframe\">\n",
       "  <thead>\n",
       "    <tr style=\"text-align: right;\">\n",
       "      <th></th>\n",
       "      <th>Unnamed: 0</th>\n",
       "      <th>Patient ID</th>\n",
       "      <th>Diagnosis</th>\n",
       "      <th>Pathes</th>\n",
       "    </tr>\n",
       "  </thead>\n",
       "  <tbody>\n",
       "    <tr>\n",
       "      <th>0</th>\n",
       "      <td>102414</td>\n",
       "      <td>10262</td>\n",
       "      <td>1</td>\n",
       "      <td>archive/10262/1/10262_idx5_x1651_y1701_class1.png</td>\n",
       "    </tr>\n",
       "  </tbody>\n",
       "</table>\n",
       "</div>"
      ],
      "text/plain": [
       "   Unnamed: 0  Patient ID  Diagnosis  \\\n",
       "0      102414       10262          1   \n",
       "\n",
       "                                              Pathes  \n",
       "0  archive/10262/1/10262_idx5_x1651_y1701_class1.png  "
      ]
     },
     "execution_count": 7,
     "metadata": {},
     "output_type": "execute_result"
    }
   ],
   "source": [
    "df_train=pd.read_csv('train_data.csv')\n",
    "print(len(df_train))\n",
    "df_train.head(n=1)"
   ]
  },
  {
   "cell_type": "code",
   "execution_count": 8,
   "metadata": {},
   "outputs": [
    {
     "data": {
      "text/html": [
       "<div>\n",
       "<style scoped>\n",
       "    .dataframe tbody tr th:only-of-type {\n",
       "        vertical-align: middle;\n",
       "    }\n",
       "\n",
       "    .dataframe tbody tr th {\n",
       "        vertical-align: top;\n",
       "    }\n",
       "\n",
       "    .dataframe thead th {\n",
       "        text-align: right;\n",
       "    }\n",
       "</style>\n",
       "<table border=\"1\" class=\"dataframe\">\n",
       "  <thead>\n",
       "    <tr style=\"text-align: right;\">\n",
       "      <th></th>\n",
       "      <th>Patient ID</th>\n",
       "      <th>Diagnosis</th>\n",
       "      <th>Pathes</th>\n",
       "    </tr>\n",
       "  </thead>\n",
       "  <tbody>\n",
       "    <tr>\n",
       "      <th>0</th>\n",
       "      <td>10262</td>\n",
       "      <td>1</td>\n",
       "      <td>archive/10262/1/10262_idx5_x1651_y1701_class1.png</td>\n",
       "    </tr>\n",
       "  </tbody>\n",
       "</table>\n",
       "</div>"
      ],
      "text/plain": [
       "   Patient ID  Diagnosis                                             Pathes\n",
       "0       10262          1  archive/10262/1/10262_idx5_x1651_y1701_class1.png"
      ]
     },
     "execution_count": 8,
     "metadata": {},
     "output_type": "execute_result"
    }
   ],
   "source": [
    "# df_train=df_train.drop(labels='Unnamed: 0.1',axis=1)\n",
    "df_train=df_train.drop(labels='Unnamed: 0',axis=1)\n",
    "df_train.head(n=1)"
   ]
  },
  {
   "cell_type": "markdown",
   "metadata": {},
   "source": [
    "<b>random sampling from train</b>"
   ]
  },
  {
   "cell_type": "markdown",
   "metadata": {},
   "source": [
    "<p style=\"color:yellow\">preloaded random samples from train</p>"
   ]
  },
  {
   "cell_type": "code",
   "execution_count": 4,
   "metadata": {},
   "outputs": [
    {
     "data": {
      "text/html": [
       "<div>\n",
       "<style scoped>\n",
       "    .dataframe tbody tr th:only-of-type {\n",
       "        vertical-align: middle;\n",
       "    }\n",
       "\n",
       "    .dataframe tbody tr th {\n",
       "        vertical-align: top;\n",
       "    }\n",
       "\n",
       "    .dataframe thead th {\n",
       "        text-align: right;\n",
       "    }\n",
       "</style>\n",
       "<table border=\"1\" class=\"dataframe\">\n",
       "  <thead>\n",
       "    <tr style=\"text-align: right;\">\n",
       "      <th></th>\n",
       "      <th>Unnamed: 0</th>\n",
       "      <th>Patient ID</th>\n",
       "      <th>Diagnosis</th>\n",
       "      <th>Pathes</th>\n",
       "      <th>Pixels</th>\n",
       "    </tr>\n",
       "  </thead>\n",
       "  <tbody>\n",
       "    <tr>\n",
       "      <th>0</th>\n",
       "      <td>0</td>\n",
       "      <td>9256</td>\n",
       "      <td>0</td>\n",
       "      <td>archive/9256/0/9256_idx5_x1251_y751_class0.png</td>\n",
       "      <td>[[[222 160 182]\\n  [222 163 185]\\n  [222 169 1...</td>\n",
       "    </tr>\n",
       "  </tbody>\n",
       "</table>\n",
       "</div>"
      ],
      "text/plain": [
       "   Unnamed: 0  Patient ID  Diagnosis  \\\n",
       "0           0        9256          0   \n",
       "\n",
       "                                           Pathes  \\\n",
       "0  archive/9256/0/9256_idx5_x1251_y751_class0.png   \n",
       "\n",
       "                                              Pixels  \n",
       "0  [[[222 160 182]\\n  [222 163 185]\\n  [222 169 1...  "
      ]
     },
     "execution_count": 4,
     "metadata": {},
     "output_type": "execute_result"
    }
   ],
   "source": [
    "# skip this for the first time\n",
    "random_train=pd.read_csv('random_train.csv')\n",
    "random_train.head(n=1)\n",
    "# random_train=random_train.drop( labels='Unnamed: 0',axis=1)"
   ]
  },
  {
   "cell_type": "markdown",
   "metadata": {},
   "source": [
    "<p style=\"color:yellow\">new random sample generation</p>"
   ]
  },
  {
   "cell_type": "code",
   "execution_count": 9,
   "metadata": {},
   "outputs": [
    {
     "name": "stdout",
     "output_type": "stream",
     "text": [
      "10000\n"
     ]
    },
    {
     "data": {
      "text/html": [
       "<div>\n",
       "<style scoped>\n",
       "    .dataframe tbody tr th:only-of-type {\n",
       "        vertical-align: middle;\n",
       "    }\n",
       "\n",
       "    .dataframe tbody tr th {\n",
       "        vertical-align: top;\n",
       "    }\n",
       "\n",
       "    .dataframe thead th {\n",
       "        text-align: right;\n",
       "    }\n",
       "</style>\n",
       "<table border=\"1\" class=\"dataframe\">\n",
       "  <thead>\n",
       "    <tr style=\"text-align: right;\">\n",
       "      <th></th>\n",
       "      <th>Patient ID</th>\n",
       "      <th>Diagnosis</th>\n",
       "      <th>Pathes</th>\n",
       "    </tr>\n",
       "  </thead>\n",
       "  <tbody>\n",
       "    <tr>\n",
       "      <th>79875</th>\n",
       "      <td>9078</td>\n",
       "      <td>0</td>\n",
       "      <td>archive/9078/0/9078_idx5_x1651_y2101_class0.png</td>\n",
       "    </tr>\n",
       "  </tbody>\n",
       "</table>\n",
       "</div>"
      ],
      "text/plain": [
       "       Patient ID  Diagnosis                                           Pathes\n",
       "79875        9078          0  archive/9078/0/9078_idx5_x1651_y2101_class0.png"
      ]
     },
     "execution_count": 9,
     "metadata": {},
     "output_type": "execute_result"
    }
   ],
   "source": [
    "import random\n",
    "# train_index=pd.r\n",
    "random_index=random.sample(range(0,len(df_train)),10000)\n",
    "random_train=df_train.loc[random_index]\n",
    "print(len(random_train))\n",
    "random_train.head(n=1)"
   ]
  },
  {
   "cell_type": "code",
   "execution_count": 11,
   "metadata": {},
   "outputs": [],
   "source": [
    "# random_train['Pixels']=random_train=random_train.drop( labels='Unnamed: 0',axis=1)\n",
    "# random_train['Pixels']=random_train\n",
    "# random_train=random_train.drop( labels='Unnamed: 0.1',axis=1)"
   ]
  },
  {
   "cell_type": "code",
   "execution_count": 5,
   "metadata": {},
   "outputs": [],
   "source": [
    "random_train=random_train.drop( labels='Unnamed: 0',axis=1)"
   ]
  },
  {
   "cell_type": "code",
   "execution_count": 12,
   "metadata": {},
   "outputs": [],
   "source": [
    "# original image shape (50,50,3)\n",
    "from PIL.Image import open\n",
    "# random_train['Pixels']=np.array(random_train['Pathes'].map(lambda x:np.asarray(open(x).resize((128,128)))))\n",
    "random_train['Pixels']=random_train['Pathes'].map(lambda x:np.asarray(open(x).resize((128,128))))"
   ]
  },
  {
   "cell_type": "code",
   "execution_count": 13,
   "metadata": {},
   "outputs": [
    {
     "data": {
      "text/html": [
       "<div>\n",
       "<style scoped>\n",
       "    .dataframe tbody tr th:only-of-type {\n",
       "        vertical-align: middle;\n",
       "    }\n",
       "\n",
       "    .dataframe tbody tr th {\n",
       "        vertical-align: top;\n",
       "    }\n",
       "\n",
       "    .dataframe thead th {\n",
       "        text-align: right;\n",
       "    }\n",
       "</style>\n",
       "<table border=\"1\" class=\"dataframe\">\n",
       "  <thead>\n",
       "    <tr style=\"text-align: right;\">\n",
       "      <th></th>\n",
       "      <th>Patient ID</th>\n",
       "      <th>Diagnosis</th>\n",
       "      <th>Pathes</th>\n",
       "      <th>Pixels</th>\n",
       "    </tr>\n",
       "  </thead>\n",
       "  <tbody>\n",
       "    <tr>\n",
       "      <th>79875</th>\n",
       "      <td>9078</td>\n",
       "      <td>0</td>\n",
       "      <td>archive/9078/0/9078_idx5_x1651_y2101_class0.png</td>\n",
       "      <td>[[[128, 56, 110], [133, 63, 116], [145, 81, 13...</td>\n",
       "    </tr>\n",
       "    <tr>\n",
       "      <th>79639</th>\n",
       "      <td>9081</td>\n",
       "      <td>1</td>\n",
       "      <td>archive/9081/1/9081_idx5_x2751_y1601_class1.png</td>\n",
       "      <td>[[[230, 209, 223], [230, 208, 222], [231, 208,...</td>\n",
       "    </tr>\n",
       "    <tr>\n",
       "      <th>59956</th>\n",
       "      <td>9029</td>\n",
       "      <td>0</td>\n",
       "      <td>archive/9029/0/9029_idx5_x1351_y601_class0.png</td>\n",
       "      <td>[[[230, 121, 157], [230, 123, 159], [231, 127,...</td>\n",
       "    </tr>\n",
       "    <tr>\n",
       "      <th>49002</th>\n",
       "      <td>13021</td>\n",
       "      <td>0</td>\n",
       "      <td>archive/13021/0/13021_idx5_x951_y851_class0.png</td>\n",
       "      <td>[[[211, 130, 160], [211, 130, 160], [214, 131,...</td>\n",
       "    </tr>\n",
       "    <tr>\n",
       "      <th>1525</th>\n",
       "      <td>8956</td>\n",
       "      <td>0</td>\n",
       "      <td>archive/8956/0/8956_idx5_x2401_y1951_class0.png</td>\n",
       "      <td>[[[228, 124, 157], [228, 124, 157], [229, 124,...</td>\n",
       "    </tr>\n",
       "    <tr>\n",
       "      <th>81404</th>\n",
       "      <td>12906</td>\n",
       "      <td>0</td>\n",
       "      <td>archive/12906/0/12906_idx5_x351_y1401_class0.png</td>\n",
       "      <td>[[[243, 240, 243], [243, 240, 243], [241, 238,...</td>\n",
       "    </tr>\n",
       "  </tbody>\n",
       "</table>\n",
       "</div>"
      ],
      "text/plain": [
       "       Patient ID  Diagnosis  \\\n",
       "79875        9078          0   \n",
       "79639        9081          1   \n",
       "59956        9029          0   \n",
       "49002       13021          0   \n",
       "1525         8956          0   \n",
       "81404       12906          0   \n",
       "\n",
       "                                                 Pathes  \\\n",
       "79875   archive/9078/0/9078_idx5_x1651_y2101_class0.png   \n",
       "79639   archive/9081/1/9081_idx5_x2751_y1601_class1.png   \n",
       "59956    archive/9029/0/9029_idx5_x1351_y601_class0.png   \n",
       "49002   archive/13021/0/13021_idx5_x951_y851_class0.png   \n",
       "1525    archive/8956/0/8956_idx5_x2401_y1951_class0.png   \n",
       "81404  archive/12906/0/12906_idx5_x351_y1401_class0.png   \n",
       "\n",
       "                                                  Pixels  \n",
       "79875  [[[128, 56, 110], [133, 63, 116], [145, 81, 13...  \n",
       "79639  [[[230, 209, 223], [230, 208, 222], [231, 208,...  \n",
       "59956  [[[230, 121, 157], [230, 123, 159], [231, 127,...  \n",
       "49002  [[[211, 130, 160], [211, 130, 160], [214, 131,...  \n",
       "1525   [[[228, 124, 157], [228, 124, 157], [229, 124,...  \n",
       "81404  [[[243, 240, 243], [243, 240, 243], [241, 238,...  "
      ]
     },
     "execution_count": 13,
     "metadata": {},
     "output_type": "execute_result"
    }
   ],
   "source": [
    "random_train.to_csv('random_train.csv')\n",
    "random_train.head(n=6)"
   ]
  },
  {
   "cell_type": "code",
   "execution_count": 9,
   "metadata": {},
   "outputs": [
    {
     "name": "stdout",
     "output_type": "stream",
     "text": [
      "0    14253\n",
      "1     5747\n",
      "Name: Diagnosis, dtype: int64\n"
     ]
    },
    {
     "data": {
      "text/plain": [
       "<AxesSubplot:>"
      ]
     },
     "execution_count": 9,
     "metadata": {},
     "output_type": "execute_result"
    },
    {
     "data": {
      "image/png": "[encoded data removed]",
      "text/plain": [
       "<Figure size 432x288 with 1 Axes>"
      ]
     },
     "metadata": {
      "needs_background": "light"
     },
     "output_type": "display_data"
    }
   ],
   "source": [
    "bm_quantity=random_train['Diagnosis'].value_counts()\n",
    "print(bm_quantity)\n",
    "bm_quantity.plot.bar(\n",
    "  color=['g','r']\n",
    ")"
   ]
  },
  {
   "cell_type": "code",
   "execution_count": 10,
   "metadata": {},
   "outputs": [],
   "source": [
    "X_train=random_train['Pixels']\n",
    "y=np.array(random_train['Diagnosis'])"
   ]
  },
  {
   "cell_type": "code",
   "execution_count": 72,
   "metadata": {},
   "outputs": [
    {
     "name": "stdout",
     "output_type": "stream",
     "text": [
      "<class 'numpy.ndarray'>\n",
      "[0 0 0 ... 0 1 0]\n"
     ]
    }
   ],
   "source": [
    "print(type(y))\n",
    "print(y)"
   ]
  },
  {
   "cell_type": "markdown",
   "metadata": {},
   "source": [
    "<b>to balance the distribution at first flatten the image, then smote, then back to original shape</b>"
   ]
  },
  {
   "cell_type": "code",
   "execution_count": 11,
   "metadata": {},
   "outputs": [
    {
     "name": "stdout",
     "output_type": "stream",
     "text": [
      "(10000, 128, 128, 3)\n"
     ]
    }
   ],
   "source": [
    "# training set\n",
    "# preprocessing dataset\n",
    "from keras.preprocessing.image import img_to_array\n",
    "from keras.applications.mobilenet_v2 import preprocess_input\n",
    "img_list = []\n",
    "for i in range (0,len(X_train)):\n",
    "    brain_img =np.array(X_train)[i]\n",
    "    img_arr = img_to_array(brain_img).astype(np.float32)\n",
    "    img_list.append(preprocess_input(img_arr))\n",
    "X_scaled = np.array(img_list)\n",
    "\n",
    "print(X_scaled.shape)"
   ]
  },
  {
   "cell_type": "code",
   "execution_count": 12,
   "metadata": {},
   "outputs": [],
   "source": [
    "X_train_shape = X_scaled.shape[1]*X_scaled.shape[2]*X_scaled.shape[3]\n",
    "X_Flatten = X_scaled.reshape(X_scaled.shape[0],X_train_shape)"
   ]
  },
  {
   "cell_type": "code",
   "execution_count": 13,
   "metadata": {},
   "outputs": [],
   "source": [
    "# start resampling via smote\n",
    "from imblearn.over_sampling import SMOTE\n",
    "sm = SMOTE(random_state=0)\n",
    "x_sm,y_sm = sm.fit_sample(X_Flatten,y)"
   ]
  },
  {
   "cell_type": "code",
   "execution_count": 14,
   "metadata": {},
   "outputs": [
    {
     "name": "stdout",
     "output_type": "stream",
     "text": [
      "The size of our dataset after oversampling: 14364\n"
     ]
    }
   ],
   "source": [
    "print('The size of our dataset after oversampling:'+' '+str(y_sm.shape[0]))"
   ]
  },
  {
   "cell_type": "code",
   "execution_count": 17,
   "metadata": {},
   "outputs": [
    {
     "name": "stderr",
     "output_type": "stream",
     "text": [
      "/home/mahmud/anaconda3/envs/computer-vision/lib/python3.8/site-packages/seaborn/_decorators.py:36: FutureWarning: Pass the following variable as a keyword arg: x. From version 0.12, the only valid positional argument will be `data`, and passing other arguments without an explicit keyword will result in an error or misinterpretation.\n",
      "  warnings.warn(\n"
     ]
    },
    {
     "data": {
      "text/plain": [
       "<AxesSubplot:ylabel='count'>"
      ]
     },
     "execution_count": 17,
     "metadata": {},
     "output_type": "execute_result"
    },
    {
     "data": {
      "image/png": "[encoded data removed]",
      "text/plain": [
       "<Figure size 432x288 with 1 Axes>"
      ]
     },
     "metadata": {
      "needs_background": "light"
     },
     "output_type": "display_data"
    }
   ],
   "source": [
    "import seaborn as sns\n",
    "sns.countplot(y_sm)"
   ]
  },
  {
   "cell_type": "code",
   "execution_count": 18,
   "metadata": {},
   "outputs": [
    {
     "name": "stdout",
     "output_type": "stream",
     "text": [
      "The shape of the training set after reshape it : (14364, 128, 128, 3)\n"
     ]
    }
   ],
   "source": [
    "row,col,channel = 128 ,128 , 3 \n",
    "X_sm_reshaped = x_sm.reshape(len(x_sm),row,col,channel)\n",
    "# chec the shape of our training set\n",
    "print('The shape of the training set after reshape it :'+\" \"+str(X_sm_reshaped.shape))"
   ]
  },
  {
   "cell_type": "markdown",
   "metadata": {},
   "source": [
    "<b>model</b>"
   ]
  },
  {
   "cell_type": "code",
   "execution_count": 21,
   "metadata": {},
   "outputs": [
    {
     "name": "stdout",
     "output_type": "stream",
     "text": [
      "Downloading data from https://storage.googleapis.com/tensorflow/keras-applications/mobilenet_v2/mobilenet_v2_weights_tf_dim_ordering_tf_kernels_1.0_224_no_top.h5\n",
      "9412608/9406464 [==============================] - 6s 1us/step\n",
      "Model: \"sequential\"\n",
      "_________________________________________________________________\n",
      "Layer (type)                 Output Shape              Param #   \n",
      "=================================================================\n",
      "mobilenetv2_1.00_224 (Functi (None, 7, 7, 1280)        2257984   \n",
      "_________________________________________________________________\n",
      "global_average_pooling2d (Gl (None, 1280)              0         \n",
      "_________________________________________________________________\n",
      "preds (Dense)                (None, 1)                 1281      \n",
      "=================================================================\n",
      "Total params: 2,259,265\n",
      "Trainable params: 1,281\n",
      "Non-trainable params: 2,257,984\n",
      "_________________________________________________________________\n"
     ]
    }
   ],
   "source": [
    "from keras.models import Sequential\n",
    "from keras.layers import Dense , GlobalAveragePooling2D\n",
    "from keras.applications import MobileNetV2\n",
    "num_classes = 1\n",
    "model = Sequential([\n",
    "     MobileNetV2(input_shape=(224,224,3),weights=\"imagenet\",include_top=False), \n",
    "     GlobalAveragePooling2D(),\n",
    "     Dense(num_classes, activation='sigmoid',name='preds'),\n",
    "])\n",
    "model.layers[0].trainable= False\n",
    "# show model summary\n",
    "model.summary()"
   ]
  },
  {
   "cell_type": "code",
   "execution_count": 23,
   "metadata": {},
   "outputs": [
    {
     "name": "stdout",
     "output_type": "stream",
     "text": [
      "Epoch 1/20\n",
      "WARNING:tensorflow:Model was constructed with shape (None, 224, 224, 3) for input Tensor(\"mobilenetv2_1.00_224_input:0\", shape=(None, 224, 224, 3), dtype=float32), but it was called on an input with incompatible shape (None, 128, 128, 3).\n",
      "WARNING:tensorflow:Model was constructed with shape (None, 224, 224, 3) for input Tensor(\"input_1:0\", shape=(None, 224, 224, 3), dtype=float32), but it was called on an input with incompatible shape (None, 128, 128, 3).\n",
      "WARNING:tensorflow:Model was constructed with shape (None, 224, 224, 3) for input Tensor(\"mobilenetv2_1.00_224_input:0\", shape=(None, 224, 224, 3), dtype=float32), but it was called on an input with incompatible shape (None, 128, 128, 3).\n",
      "WARNING:tensorflow:Model was constructed with shape (None, 224, 224, 3) for input Tensor(\"input_1:0\", shape=(None, 224, 224, 3), dtype=float32), but it was called on an input with incompatible shape (None, 128, 128, 3).\n",
      "449/449 [==============================] - 166s 370ms/step - loss: 0.4284 - accuracy: 0.8092\n",
      "Epoch 2/20\n",
      "449/449 [==============================] - 165s 368ms/step - loss: 0.3736 - accuracy: 0.8385\n",
      "Epoch 3/20\n",
      "449/449 [==============================] - 161s 358ms/step - loss: 0.3615 - accuracy: 0.8440\n",
      "Epoch 4/20\n",
      "449/449 [==============================] - 169s 377ms/step - loss: 0.3511 - accuracy: 0.8467\n",
      "Epoch 5/20\n",
      "449/449 [==============================] - 175s 390ms/step - loss: 0.3446 - accuracy: 0.8513\n",
      "Epoch 6/20\n",
      "449/449 [==============================] - 180s 401ms/step - loss: 0.3394 - accuracy: 0.8547\n",
      "Epoch 7/20\n",
      "449/449 [==============================] - 164s 366ms/step - loss: 0.3353 - accuracy: 0.8540\n",
      "Epoch 8/20\n",
      "449/449 [==============================] - 167s 372ms/step - loss: 0.3320 - accuracy: 0.8572\n",
      "Epoch 9/20\n",
      "449/449 [==============================] - 171s 381ms/step - loss: 0.3280 - accuracy: 0.8584\n",
      "Epoch 10/20\n",
      "449/449 [==============================] - 160s 355ms/step - loss: 0.3267 - accuracy: 0.8615\n",
      "Epoch 11/20\n",
      "449/449 [==============================] - 161s 359ms/step - loss: 0.3231 - accuracy: 0.8624\n",
      "Epoch 12/20\n",
      "449/449 [==============================] - 164s 366ms/step - loss: 0.3213 - accuracy: 0.8630\n",
      "Epoch 13/20\n",
      "449/449 [==============================] - 160s 357ms/step - loss: 0.3196 - accuracy: 0.8612\n",
      "Epoch 14/20\n",
      "449/449 [==============================] - 161s 358ms/step - loss: 0.3181 - accuracy: 0.8642\n",
      "Epoch 15/20\n",
      "449/449 [==============================] - 159s 355ms/step - loss: 0.3154 - accuracy: 0.8674\n",
      "Epoch 16/20\n",
      "449/449 [==============================] - 159s 355ms/step - loss: 0.3136 - accuracy: 0.8665\n",
      "Epoch 17/20\n",
      "449/449 [==============================] - 173s 386ms/step - loss: 0.3139 - accuracy: 0.8654\n",
      "Epoch 18/20\n",
      "449/449 [==============================] - 165s 368ms/step - loss: 0.3111 - accuracy: 0.8669\n",
      "Epoch 19/20\n",
      "449/449 [==============================] - 160s 356ms/step - loss: 0.3097 - accuracy: 0.8688\n",
      "Epoch 20/20\n",
      "449/449 [==============================] - 159s 354ms/step - loss: 0.3086 - accuracy: 0.8681\n"
     ]
    },
    {
     "data": {
      "text/plain": [
       "<tensorflow.python.keras.callbacks.History at 0x7efb90328340>"
      ]
     },
     "execution_count": 23,
     "metadata": {},
     "output_type": "execute_result"
    }
   ],
   "source": [
    "import keras\n",
    "model.compile(optimizer='adam',\n",
    "             loss=keras.losses.binary_crossentropy,\n",
    "             metrics=['accuracy'])\n",
    "model.fit(X_sm_reshaped,y_sm\n",
    "          ,epochs=20,verbose=1)"
   ]
  },
  {
   "cell_type": "code",
   "execution_count": 25,
   "metadata": {},
   "outputs": [
    {
     "data": {
      "text/html": [
       "<div>\n",
       "<style scoped>\n",
       "    .dataframe tbody tr th:only-of-type {\n",
       "        vertical-align: middle;\n",
       "    }\n",
       "\n",
       "    .dataframe tbody tr th {\n",
       "        vertical-align: top;\n",
       "    }\n",
       "\n",
       "    .dataframe thead th {\n",
       "        text-align: right;\n",
       "    }\n",
       "</style>\n",
       "<table border=\"1\" class=\"dataframe\">\n",
       "  <thead>\n",
       "    <tr style=\"text-align: right;\">\n",
       "      <th></th>\n",
       "      <th>Unnamed: 0</th>\n",
       "      <th>Patient ID</th>\n",
       "      <th>Diagnosis</th>\n",
       "      <th>Pathes</th>\n",
       "    </tr>\n",
       "  </thead>\n",
       "  <tbody>\n",
       "    <tr>\n",
       "      <th>0</th>\n",
       "      <td>11171</td>\n",
       "      <td>10254</td>\n",
       "      <td>0</td>\n",
       "      <td>archive/10254/0/10254_idx5_x1851_y901_class0.png</td>\n",
       "    </tr>\n",
       "  </tbody>\n",
       "</table>\n",
       "</div>"
      ],
      "text/plain": [
       "   Unnamed: 0  Patient ID  Diagnosis  \\\n",
       "0       11171       10254          0   \n",
       "\n",
       "                                             Pathes  \n",
       "0  archive/10254/0/10254_idx5_x1851_y901_class0.png  "
      ]
     },
     "execution_count": 25,
     "metadata": {},
     "output_type": "execute_result"
    }
   ],
   "source": [
    "df_test=pd.read_csv('test_data.csv')\n",
    "df_test.head(n=1)"
   ]
  },
  {
   "cell_type": "code",
   "execution_count": 29,
   "metadata": {},
   "outputs": [
    {
     "data": {
      "text/html": [
       "<div>\n",
       "<style scoped>\n",
       "    .dataframe tbody tr th:only-of-type {\n",
       "        vertical-align: middle;\n",
       "    }\n",
       "\n",
       "    .dataframe tbody tr th {\n",
       "        vertical-align: top;\n",
       "    }\n",
       "\n",
       "    .dataframe thead th {\n",
       "        text-align: right;\n",
       "    }\n",
       "</style>\n",
       "<table border=\"1\" class=\"dataframe\">\n",
       "  <thead>\n",
       "    <tr style=\"text-align: right;\">\n",
       "      <th></th>\n",
       "      <th>Patient ID</th>\n",
       "      <th>Diagnosis</th>\n",
       "      <th>Pathes</th>\n",
       "    </tr>\n",
       "  </thead>\n",
       "  <tbody>\n",
       "    <tr>\n",
       "      <th>0</th>\n",
       "      <td>10254</td>\n",
       "      <td>0</td>\n",
       "      <td>archive/10254/0/10254_idx5_x1851_y901_class0.png</td>\n",
       "    </tr>\n",
       "  </tbody>\n",
       "</table>\n",
       "</div>"
      ],
      "text/plain": [
       "   Patient ID  Diagnosis                                            Pathes\n",
       "0       10254          0  archive/10254/0/10254_idx5_x1851_y901_class0.png"
      ]
     },
     "execution_count": 29,
     "metadata": {},
     "output_type": "execute_result"
    }
   ],
   "source": [
    "df_test=df_test.drop(labels='Unnamed: 0',axis=1)\n",
    "df_test.head(n=1)"
   ]
  },
  {
   "cell_type": "code",
   "execution_count": 32,
   "metadata": {},
   "outputs": [
    {
     "name": "stdout",
     "output_type": "stream",
     "text": [
      "2000\n"
     ]
    },
    {
     "data": {
      "text/html": [
       "<div>\n",
       "<style scoped>\n",
       "    .dataframe tbody tr th:only-of-type {\n",
       "        vertical-align: middle;\n",
       "    }\n",
       "\n",
       "    .dataframe tbody tr th {\n",
       "        vertical-align: top;\n",
       "    }\n",
       "\n",
       "    .dataframe thead th {\n",
       "        text-align: right;\n",
       "    }\n",
       "</style>\n",
       "<table border=\"1\" class=\"dataframe\">\n",
       "  <thead>\n",
       "    <tr style=\"text-align: right;\">\n",
       "      <th></th>\n",
       "      <th>Patient ID</th>\n",
       "      <th>Diagnosis</th>\n",
       "      <th>Pathes</th>\n",
       "    </tr>\n",
       "  </thead>\n",
       "  <tbody>\n",
       "    <tr>\n",
       "      <th>42479</th>\n",
       "      <td>12890</td>\n",
       "      <td>0</td>\n",
       "      <td>archive/12890/0/12890_idx5_x501_y301_class0.png</td>\n",
       "    </tr>\n",
       "  </tbody>\n",
       "</table>\n",
       "</div>"
      ],
      "text/plain": [
       "       Patient ID  Diagnosis                                           Pathes\n",
       "42479       12890          0  archive/12890/0/12890_idx5_x501_y301_class0.png"
      ]
     },
     "execution_count": 32,
     "metadata": {},
     "output_type": "execute_result"
    }
   ],
   "source": [
    "import random\n",
    "# train_index=pd.r\n",
    "random_index=random.sample(range(0,len(df_test)),2000)\n",
    "random_test=df_test.loc[random_index]\n",
    "print(len(random_test))\n",
    "random_test.head(n=1)"
   ]
  },
  {
   "cell_type": "code",
   "execution_count": null,
   "metadata": {},
   "outputs": [],
   "source": [
    "random_test=random_test.drop( labels='Pixels',axis=1)\n",
    "random_test.head(n=1)"
   ]
  },
  {
   "cell_type": "code",
   "execution_count": 33,
   "metadata": {},
   "outputs": [],
   "source": [
    "# from PIL.Image import open\n",
    "# random_train['Pixels']=np.array(random_train['Pathes'].map(lambda x:np.asarray(open(x).resize((128,128)))))\n",
    "random_test['Pixels']=random_test['Pathes'].map(lambda x:np.asarray(open(x).resize((128,128))))"
   ]
  },
  {
   "cell_type": "code",
   "execution_count": 34,
   "metadata": {},
   "outputs": [],
   "source": [
    "X_test=random_test['Pixels']\n",
    "y_test=np.array(random_test['Diagnosis'])"
   ]
  },
  {
   "cell_type": "code",
   "execution_count": 35,
   "metadata": {},
   "outputs": [
    {
     "name": "stdout",
     "output_type": "stream",
     "text": [
      "(2000, 128, 128, 3)\n"
     ]
    }
   ],
   "source": [
    "img_list = []\n",
    "for i in range (0,len(X_test)):\n",
    "    brain_img =np.array(X_test)[i]\n",
    "    img_arr = img_to_array(brain_img).astype(np.float32)\n",
    "    img_list.append(preprocess_input(img_arr))\n",
    "X_scaled_test = np.array(img_list)\n",
    "print(X_scaled_test.shape)"
   ]
  },
  {
   "cell_type": "code",
   "execution_count": 36,
   "metadata": {},
   "outputs": [
    {
     "name": "stdout",
     "output_type": "stream",
     "text": [
      "WARNING:tensorflow:Model was constructed with shape (None, 224, 224, 3) for input Tensor(\"mobilenetv2_1.00_224_input:0\", shape=(None, 224, 224, 3), dtype=float32), but it was called on an input with incompatible shape (None, 128, 128, 3).\n",
      "WARNING:tensorflow:Model was constructed with shape (None, 224, 224, 3) for input Tensor(\"input_1:0\", shape=(None, 224, 224, 3), dtype=float32), but it was called on an input with incompatible shape (None, 128, 128, 3).\n",
      "63/63 [==============================] - 22s 352ms/step - loss: 0.4422 - accuracy: 0.8025\n",
      "The loss of the evaluation : 44.22256052494049\n",
      "The accuracy of the evaluation : 80.25000095367432\n"
     ]
    }
   ],
   "source": [
    "eval_score = model.evaluate(X_scaled_test,y_test)\n",
    "print('The loss of the evaluation :'+' '+str(eval_score[0]*100))\n",
    "print('The accuracy of the evaluation :'+' '+str(eval_score[1]*100))"
   ]
  },
  {
   "cell_type": "code",
   "execution_count": 37,
   "metadata": {},
   "outputs": [
    {
     "name": "stdout",
     "output_type": "stream",
     "text": [
      "WARNING:tensorflow:From <ipython-input-37-59267f40153d>:2: Sequential.predict_classes (from tensorflow.python.keras.engine.sequential) is deprecated and will be removed after 2021-01-01.\n",
      "Instructions for updating:\n",
      "Please use instead:* `np.argmax(model.predict(x), axis=-1)`,   if your model does multi-class classification   (e.g. if it uses a `softmax` last-layer activation).* `(model.predict(x) > 0.5).astype(\"int32\")`,   if your model does binary classification   (e.g. if it uses a `sigmoid` last-layer activation).\n",
      "WARNING:tensorflow:Model was constructed with shape (None, 224, 224, 3) for input Tensor(\"mobilenetv2_1.00_224_input:0\", shape=(None, 224, 224, 3), dtype=float32), but it was called on an input with incompatible shape (None, 128, 128, 3).\n",
      "WARNING:tensorflow:Model was constructed with shape (None, 224, 224, 3) for input Tensor(\"input_1:0\", shape=(None, 224, 224, 3), dtype=float32), but it was called on an input with incompatible shape (None, 128, 128, 3).\n",
      "[[0]\n",
      " [1]\n",
      " [1]\n",
      " ...\n",
      " [0]\n",
      " [1]\n",
      " [1]]\n"
     ]
    }
   ],
   "source": [
    "from sklearn.metrics import classification_report , confusion_matrix\n",
    "y_pred = model.predict_classes(X_scaled_test)\n",
    "print(y_pred)"
   ]
  },
  {
   "cell_type": "code",
   "execution_count": null,
   "metadata": {},
   "outputs": [],
   "source": []
  }
 ],
 "metadata": {
  "kernelspec": {
   "display_name": "Python 3",
   "language": "python",
   "name": "python3"
  },
  "language_info": {
   "codemirror_mode": {
    "name": "ipython",
    "version": 3
   },
   "file_extension": ".py",
   "mimetype": "text/x-python",
   "name": "python",
   "nbconvert_exporter": "python",
   "pygments_lexer": "ipython3",
   "version": "3.8.3"
  }
 },
 "nbformat": 4,
 "nbformat_minor": 4
}
