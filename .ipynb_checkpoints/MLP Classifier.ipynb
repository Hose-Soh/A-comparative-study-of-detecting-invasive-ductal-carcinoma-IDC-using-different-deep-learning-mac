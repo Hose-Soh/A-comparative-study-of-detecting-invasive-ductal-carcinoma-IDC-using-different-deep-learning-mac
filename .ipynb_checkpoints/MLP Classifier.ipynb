{
 "cells": [
  {
   "cell_type": "code",
   "execution_count": 6,
   "metadata": {},
   "outputs": [],
   "source": [
    "import matplotlib.pyplot as plt\n",
    "from sklearn.model_selection import train_test_split\n",
    "from sklearn.neural_network import MLPClassifier\n",
    "from sklearn.metrics import accuracy_score, confusion_matrix\n",
    "from sklearn.decomposition import PCA\n",
    "import pandas as pd\n",
    "import numpy as np\n",
    "import glob,os"
   ]
  },
  {
   "cell_type": "code",
   "execution_count": 37,
   "metadata": {},
   "outputs": [
    {
     "name": "stdout",
     "output_type": "stream",
     "text": [
      "Number of the patient : 279\n",
      "277524\n",
      "279\n"
     ]
    },
    {
     "data": {
      "text/plain": [
       "<matplotlib.image.AxesImage at 0x7f6c5af26fa0>"
      ]
     },
     "execution_count": 37,
     "metadata": {},
     "output_type": "execute_result"
    },
    {
     "data": {
      "image/png": "[encoded data removed]",
      "text/plain": [
       "<Figure size 432x288 with 1 Axes>"
      ]
     },
     "metadata": {
      "needs_background": "light"
     },
     "output_type": "display_data"
    }
   ],
   "source": [
    "image_pathes='archive/*'\n",
    "patient_list = list(glob.glob(image_pathes))\n",
    "print('Number of the patient :'+' '+str(len(patient_list)))\n",
    "# print(patient_list)\n",
    "sum = 0\n",
    "for i in range(len(patient_list)):\n",
    "    sum+=len(glob.glob(patient_list[i]+'/*/*'))\n",
    "print(sum)\n",
    "all_image=[]\n",
    "for i in range(len(patient_list)):\n",
    "#     print(patient_list[i])\n",
    "#     print(glob.glob(patient_list[i]+'/*/*'))\n",
    "    if i==279:\n",
    "        print(glob.glob(patient_list[i]+'/*/*'))\n",
    "    all_image.append(glob.glob(patient_list[i]+'/*/*'))\n",
    "\n",
    "print(len(all_image))\n",
    "import skimage\n",
    "from skimage.io import imread , imread_collection \n",
    "import matplotlib.pyplot as plt\n",
    "# print((all_image[0]))\n",
    "img_sample = imread(all_image[0][0])\n",
    "plt.title('patienID:'\n",
    "          +str(all_image[2][0].split('/')[1])+'\\n'\n",
    "         'class:'+str(all_image[2][0].split('/')[2]))\n",
    "plt.imshow(img_sample)\n"
   ]
  },
  {
   "cell_type": "code",
   "execution_count": 38,
   "metadata": {},
   "outputs": [],
   "source": [
    "# creating dataframe\n",
    "patient_id=[all_image[i][j].split('/')[1] for i in range(0,len(all_image)) for j in range(0,len(all_image[i]))]\n",
    "# print(patient_id)\n",
    "class_test=[all_image[i][j].split('/')[2] for i in range(0,len(all_image)) for j in range(0,len(all_image[i]))]\n",
    "# print(class_test)\n",
    "patient_pathes = [all_image[i][x]for i in range(0,len(all_image))for x in range(0,len(all_image[i]))]\n"
   ]
  },
  {
   "cell_type": "code",
   "execution_count": 39,
   "metadata": {},
   "outputs": [],
   "source": [
    "df_original=pd.DataFrame({\n",
    "    'Patient ID':patient_id,\n",
    "    'Diagnosis':class_test,\n",
    "    'Pathes':patient_pathes\n",
    "})"
   ]
  },
  {
   "cell_type": "code",
   "execution_count": 40,
   "metadata": {},
   "outputs": [],
   "source": [
    "df_original.to_csv('Original_data.csv')"
   ]
  },
  {
   "cell_type": "markdown",
   "metadata": {},
   "source": [
    "<h1>start from here. everything is loaded</h1>"
   ]
  },
  {
   "cell_type": "code",
   "execution_count": 7,
   "metadata": {},
   "outputs": [
    {
     "data": {
      "text/html": [
       "<div>\n",
       "<style scoped>\n",
       "    .dataframe tbody tr th:only-of-type {\n",
       "        vertical-align: middle;\n",
       "    }\n",
       "\n",
       "    .dataframe tbody tr th {\n",
       "        vertical-align: top;\n",
       "    }\n",
       "\n",
       "    .dataframe thead th {\n",
       "        text-align: right;\n",
       "    }\n",
       "</style>\n",
       "<table border=\"1\" class=\"dataframe\">\n",
       "  <thead>\n",
       "    <tr style=\"text-align: right;\">\n",
       "      <th></th>\n",
       "      <th>Unnamed: 0</th>\n",
       "      <th>Patient ID</th>\n",
       "      <th>Diagnosis</th>\n",
       "      <th>Pathes</th>\n",
       "    </tr>\n",
       "  </thead>\n",
       "  <tbody>\n",
       "    <tr>\n",
       "      <th>0</th>\n",
       "      <td>0</td>\n",
       "      <td>16014</td>\n",
       "      <td>1</td>\n",
       "      <td>archive/16014/1/16014_idx5_x951_y851_class1.png</td>\n",
       "    </tr>\n",
       "  </tbody>\n",
       "</table>\n",
       "</div>"
      ],
      "text/plain": [
       "   Unnamed: 0  Patient ID  Diagnosis  \\\n",
       "0           0       16014          1   \n",
       "\n",
       "                                            Pathes  \n",
       "0  archive/16014/1/16014_idx5_x951_y851_class1.png  "
      ]
     },
     "execution_count": 7,
     "metadata": {},
     "output_type": "execute_result"
    }
   ],
   "source": [
    "df_original=pd.read_csv('Original_data.csv')\n",
    "df_original.head(n=1)"
   ]
  },
  {
   "cell_type": "code",
   "execution_count": 8,
   "metadata": {},
   "outputs": [
    {
     "data": {
      "text/html": [
       "<div>\n",
       "<style scoped>\n",
       "    .dataframe tbody tr th:only-of-type {\n",
       "        vertical-align: middle;\n",
       "    }\n",
       "\n",
       "    .dataframe tbody tr th {\n",
       "        vertical-align: top;\n",
       "    }\n",
       "\n",
       "    .dataframe thead th {\n",
       "        text-align: right;\n",
       "    }\n",
       "</style>\n",
       "<table border=\"1\" class=\"dataframe\">\n",
       "  <thead>\n",
       "    <tr style=\"text-align: right;\">\n",
       "      <th></th>\n",
       "      <th>Patient ID</th>\n",
       "      <th>Diagnosis</th>\n",
       "      <th>Pathes</th>\n",
       "    </tr>\n",
       "  </thead>\n",
       "  <tbody>\n",
       "    <tr>\n",
       "      <th>0</th>\n",
       "      <td>16014</td>\n",
       "      <td>1</td>\n",
       "      <td>archive/16014/1/16014_idx5_x951_y851_class1.png</td>\n",
       "    </tr>\n",
       "  </tbody>\n",
       "</table>\n",
       "</div>"
      ],
      "text/plain": [
       "   Patient ID  Diagnosis                                           Pathes\n",
       "0       16014          1  archive/16014/1/16014_idx5_x951_y851_class1.png"
      ]
     },
     "execution_count": 8,
     "metadata": {},
     "output_type": "execute_result"
    }
   ],
   "source": [
    "df_original=df_original.drop(labels='Unnamed: 0',axis=1)\n",
    "df_original.head(n=1)"
   ]
  },
  {
   "cell_type": "code",
   "execution_count": 9,
   "metadata": {},
   "outputs": [],
   "source": [
    "from sklearn.model_selection import train_test_split\n",
    "df_train,df_test=train_test_split(df_original,test_size=0.4,)"
   ]
  },
  {
   "cell_type": "code",
   "execution_count": 10,
   "metadata": {},
   "outputs": [
    {
     "data": {
      "text/html": [
       "<div>\n",
       "<style scoped>\n",
       "    .dataframe tbody tr th:only-of-type {\n",
       "        vertical-align: middle;\n",
       "    }\n",
       "\n",
       "    .dataframe tbody tr th {\n",
       "        vertical-align: top;\n",
       "    }\n",
       "\n",
       "    .dataframe thead th {\n",
       "        text-align: right;\n",
       "    }\n",
       "</style>\n",
       "<table border=\"1\" class=\"dataframe\">\n",
       "  <thead>\n",
       "    <tr style=\"text-align: right;\">\n",
       "      <th></th>\n",
       "      <th>Patient ID</th>\n",
       "      <th>Diagnosis</th>\n",
       "      <th>Pathes</th>\n",
       "    </tr>\n",
       "  </thead>\n",
       "  <tbody>\n",
       "    <tr>\n",
       "      <th>148413</th>\n",
       "      <td>12895</td>\n",
       "      <td>0</td>\n",
       "      <td>archive/12895/0/12895_idx5_x3351_y1151_class0.png</td>\n",
       "    </tr>\n",
       "    <tr>\n",
       "      <th>46127</th>\n",
       "      <td>15903</td>\n",
       "      <td>1</td>\n",
       "      <td>archive/15903/1/15903_idx5_x1901_y601_class1.png</td>\n",
       "    </tr>\n",
       "  </tbody>\n",
       "</table>\n",
       "</div>"
      ],
      "text/plain": [
       "        Patient ID  Diagnosis  \\\n",
       "148413       12895          0   \n",
       "46127        15903          1   \n",
       "\n",
       "                                                   Pathes  \n",
       "148413  archive/12895/0/12895_idx5_x3351_y1151_class0.png  \n",
       "46127    archive/15903/1/15903_idx5_x1901_y601_class1.png  "
      ]
     },
     "execution_count": 10,
     "metadata": {},
     "output_type": "execute_result"
    }
   ],
   "source": [
    "df_train.to_csv('delete.csv')\n",
    "df_train.head(n=2)"
   ]
  },
  {
   "cell_type": "code",
   "execution_count": 11,
   "metadata": {},
   "outputs": [
    {
     "data": {
      "text/html": [
       "<div>\n",
       "<style scoped>\n",
       "    .dataframe tbody tr th:only-of-type {\n",
       "        vertical-align: middle;\n",
       "    }\n",
       "\n",
       "    .dataframe tbody tr th {\n",
       "        vertical-align: top;\n",
       "    }\n",
       "\n",
       "    .dataframe thead th {\n",
       "        text-align: right;\n",
       "    }\n",
       "</style>\n",
       "<table border=\"1\" class=\"dataframe\">\n",
       "  <thead>\n",
       "    <tr style=\"text-align: right;\">\n",
       "      <th></th>\n",
       "      <th>Unnamed: 0</th>\n",
       "      <th>Patient ID</th>\n",
       "      <th>Diagnosis</th>\n",
       "      <th>Pathes</th>\n",
       "    </tr>\n",
       "  </thead>\n",
       "  <tbody>\n",
       "    <tr>\n",
       "      <th>0</th>\n",
       "      <td>148413</td>\n",
       "      <td>12895</td>\n",
       "      <td>0</td>\n",
       "      <td>archive/12895/0/12895_idx5_x3351_y1151_class0.png</td>\n",
       "    </tr>\n",
       "    <tr>\n",
       "      <th>1</th>\n",
       "      <td>46127</td>\n",
       "      <td>15903</td>\n",
       "      <td>1</td>\n",
       "      <td>archive/15903/1/15903_idx5_x1901_y601_class1.png</td>\n",
       "    </tr>\n",
       "  </tbody>\n",
       "</table>\n",
       "</div>"
      ],
      "text/plain": [
       "   Unnamed: 0  Patient ID  Diagnosis  \\\n",
       "0      148413       12895          0   \n",
       "1       46127       15903          1   \n",
       "\n",
       "                                              Pathes  \n",
       "0  archive/12895/0/12895_idx5_x3351_y1151_class0.png  \n",
       "1   archive/15903/1/15903_idx5_x1901_y601_class1.png  "
      ]
     },
     "execution_count": 11,
     "metadata": {},
     "output_type": "execute_result"
    }
   ],
   "source": [
    "df_train=pd.read_csv('delete.csv')\n",
    "df_train.head(n=2)"
   ]
  },
  {
   "cell_type": "code",
   "execution_count": 12,
   "metadata": {},
   "outputs": [
    {
     "data": {
      "text/html": [
       "<div>\n",
       "<style scoped>\n",
       "    .dataframe tbody tr th:only-of-type {\n",
       "        vertical-align: middle;\n",
       "    }\n",
       "\n",
       "    .dataframe tbody tr th {\n",
       "        vertical-align: top;\n",
       "    }\n",
       "\n",
       "    .dataframe thead th {\n",
       "        text-align: right;\n",
       "    }\n",
       "</style>\n",
       "<table border=\"1\" class=\"dataframe\">\n",
       "  <thead>\n",
       "    <tr style=\"text-align: right;\">\n",
       "      <th></th>\n",
       "      <th>Patient ID</th>\n",
       "      <th>Diagnosis</th>\n",
       "      <th>Pathes</th>\n",
       "    </tr>\n",
       "  </thead>\n",
       "  <tbody>\n",
       "    <tr>\n",
       "      <th>0</th>\n",
       "      <td>12895</td>\n",
       "      <td>0</td>\n",
       "      <td>archive/12895/0/12895_idx5_x3351_y1151_class0.png</td>\n",
       "    </tr>\n",
       "  </tbody>\n",
       "</table>\n",
       "</div>"
      ],
      "text/plain": [
       "   Patient ID  Diagnosis                                             Pathes\n",
       "0       12895          0  archive/12895/0/12895_idx5_x3351_y1151_class0.png"
      ]
     },
     "execution_count": 12,
     "metadata": {},
     "output_type": "execute_result"
    }
   ],
   "source": [
    "df_train=df_train.drop(labels='Unnamed: 0',axis=1)\n",
    "df_train.head(n=1)"
   ]
  },
  {
   "cell_type": "markdown",
   "metadata": {},
   "source": [
    "<b>create random data</b>"
   ]
  },
  {
   "cell_type": "code",
   "execution_count": 13,
   "metadata": {},
   "outputs": [
    {
     "name": "stdout",
     "output_type": "stream",
     "text": [
      "10000\n"
     ]
    },
    {
     "data": {
      "text/html": [
       "<div>\n",
       "<style scoped>\n",
       "    .dataframe tbody tr th:only-of-type {\n",
       "        vertical-align: middle;\n",
       "    }\n",
       "\n",
       "    .dataframe tbody tr th {\n",
       "        vertical-align: top;\n",
       "    }\n",
       "\n",
       "    .dataframe thead th {\n",
       "        text-align: right;\n",
       "    }\n",
       "</style>\n",
       "<table border=\"1\" class=\"dataframe\">\n",
       "  <thead>\n",
       "    <tr style=\"text-align: right;\">\n",
       "      <th></th>\n",
       "      <th>Patient ID</th>\n",
       "      <th>Diagnosis</th>\n",
       "      <th>Pathes</th>\n",
       "    </tr>\n",
       "  </thead>\n",
       "  <tbody>\n",
       "    <tr>\n",
       "      <th>107837</th>\n",
       "      <td>14156</td>\n",
       "      <td>0</td>\n",
       "      <td>archive/14156/0/14156_idx5_x2701_y2001_class0.png</td>\n",
       "    </tr>\n",
       "  </tbody>\n",
       "</table>\n",
       "</div>"
      ],
      "text/plain": [
       "        Patient ID  Diagnosis  \\\n",
       "107837       14156          0   \n",
       "\n",
       "                                                   Pathes  \n",
       "107837  archive/14156/0/14156_idx5_x2701_y2001_class0.png  "
      ]
     },
     "execution_count": 13,
     "metadata": {},
     "output_type": "execute_result"
    }
   ],
   "source": [
    "import random\n",
    "# train_index=pd.r\n",
    "random_index=random.sample(range(0,len(df_train)),10000)\n",
    "random_train=df_train.loc[random_index]\n",
    "print(len(random_train))\n",
    "random_train.head(n=1)"
   ]
  },
  {
   "cell_type": "code",
   "execution_count": 14,
   "metadata": {},
   "outputs": [],
   "source": [
    "# random_train.drop(columns='Unnamed: 0')"
   ]
  },
  {
   "cell_type": "code",
   "execution_count": 15,
   "metadata": {},
   "outputs": [],
   "source": [
    "from PIL.Image import open\n",
    "# random_train['Pixels']=np.array(random_train['Pathes'].map(lambda x:np.asarray(open(x).resize((128,128)))))\n",
    "# random_train['Pixels']=random_train.loc[:,['Pathes']].map(lambda x:np.asarray(open(x).resize((128,128))))\n",
    "random_train['Pixels']=random_train['Pathes'].map(lambda x:np.asarray(open(x).resize((128,128))))\n"
   ]
  },
  {
   "cell_type": "code",
   "execution_count": 16,
   "metadata": {},
   "outputs": [
    {
     "data": {
      "text/html": [
       "<div>\n",
       "<style scoped>\n",
       "    .dataframe tbody tr th:only-of-type {\n",
       "        vertical-align: middle;\n",
       "    }\n",
       "\n",
       "    .dataframe tbody tr th {\n",
       "        vertical-align: top;\n",
       "    }\n",
       "\n",
       "    .dataframe thead th {\n",
       "        text-align: right;\n",
       "    }\n",
       "</style>\n",
       "<table border=\"1\" class=\"dataframe\">\n",
       "  <thead>\n",
       "    <tr style=\"text-align: right;\">\n",
       "      <th></th>\n",
       "      <th>Patient ID</th>\n",
       "      <th>Diagnosis</th>\n",
       "      <th>Pathes</th>\n",
       "      <th>Pixels</th>\n",
       "    </tr>\n",
       "  </thead>\n",
       "  <tbody>\n",
       "    <tr>\n",
       "      <th>107837</th>\n",
       "      <td>14156</td>\n",
       "      <td>0</td>\n",
       "      <td>archive/14156/0/14156_idx5_x2701_y2001_class0.png</td>\n",
       "      <td>[[[159, 104, 147], [169, 113, 154], [194, 135,...</td>\n",
       "    </tr>\n",
       "    <tr>\n",
       "      <th>107250</th>\n",
       "      <td>13459</td>\n",
       "      <td>0</td>\n",
       "      <td>archive/13459/0/13459_idx5_x2151_y701_class0.png</td>\n",
       "      <td>[[[230, 195, 207], [230, 195, 209], [232, 200,...</td>\n",
       "    </tr>\n",
       "  </tbody>\n",
       "</table>\n",
       "</div>"
      ],
      "text/plain": [
       "        Patient ID  Diagnosis  \\\n",
       "107837       14156          0   \n",
       "107250       13459          0   \n",
       "\n",
       "                                                   Pathes  \\\n",
       "107837  archive/14156/0/14156_idx5_x2701_y2001_class0.png   \n",
       "107250   archive/13459/0/13459_idx5_x2151_y701_class0.png   \n",
       "\n",
       "                                                   Pixels  \n",
       "107837  [[[159, 104, 147], [169, 113, 154], [194, 135,...  \n",
       "107250  [[[230, 195, 207], [230, 195, 209], [232, 200,...  "
      ]
     },
     "execution_count": 16,
     "metadata": {},
     "output_type": "execute_result"
    }
   ],
   "source": [
    "random_train.head(n=2)"
   ]
  },
  {
   "cell_type": "code",
   "execution_count": 17,
   "metadata": {},
   "outputs": [],
   "source": [
    "# random_train.drop(columns='Unnamed: 0')"
   ]
  },
  {
   "cell_type": "code",
   "execution_count": 18,
   "metadata": {},
   "outputs": [
    {
     "name": "stdout",
     "output_type": "stream",
     "text": [
      "0    7188\n",
      "1    2812\n",
      "Name: Diagnosis, dtype: int64\n"
     ]
    }
   ],
   "source": [
    "bm_quantity=random_train['Diagnosis'].value_counts()\n",
    "print(bm_quantity)"
   ]
  },
  {
   "cell_type": "code",
   "execution_count": 19,
   "metadata": {},
   "outputs": [
    {
     "name": "stdout",
     "output_type": "stream",
     "text": [
      "<class 'numpy.ndarray'>\n",
      "[0 0 0 ... 0 0 0]\n"
     ]
    }
   ],
   "source": [
    "X_train=random_train['Pixels']\n",
    "y=np.array(random_train['Diagnosis'])\n",
    "print(type(y))\n",
    "print(y)"
   ]
  },
  {
   "cell_type": "markdown",
   "metadata": {},
   "source": [
    "<b>to perform random sampling, then flatten, then pca, then MLPclassifier. images not transformed to original image</b>"
   ]
  },
  {
   "cell_type": "code",
   "execution_count": 20,
   "metadata": {},
   "outputs": [
    {
     "name": "stdout",
     "output_type": "stream",
     "text": [
      "(10000, 128, 128, 3)\n"
     ]
    }
   ],
   "source": [
    "# training set\n",
    "# preprocessing dataset\n",
    "from keras.preprocessing.image import img_to_array\n",
    "from keras.applications.mobilenet_v2 import preprocess_input\n",
    "img_list = []\n",
    "for i in range (0,len(X_train)):\n",
    "    brain_img =np.array(X_train)[i]\n",
    "    img_arr = img_to_array(brain_img).astype(np.float32)\n",
    "    img_list.append(preprocess_input(img_arr))\n",
    "X_scaled = np.array(img_list)\n",
    "\n",
    "print(X_scaled.shape)"
   ]
  },
  {
   "cell_type": "code",
   "execution_count": 21,
   "metadata": {},
   "outputs": [],
   "source": [
    "X_train_shape = X_scaled.shape[1]*X_scaled.shape[2]*X_scaled.shape[3]\n",
    "X_Flatten = X_scaled.reshape(X_scaled.shape[0],X_train_shape)"
   ]
  },
  {
   "cell_type": "markdown",
   "metadata": {},
   "source": [
    "<p style=\"color:red\"><b>don't run these PCA cells. computer will release resources</b></p>"
   ]
  },
  {
   "cell_type": "code",
   "execution_count": 18,
   "metadata": {},
   "outputs": [],
   "source": [
    "# start resampling via smote\n",
    "from imblearn.over_sampling import SMOTE\n",
    "sm = SMOTE(random_state=0)\n",
    "x_sm,y_sm = sm.fit_sample(X_Flatten,y)"
   ]
  },
  {
   "cell_type": "code",
   "execution_count": 4,
   "metadata": {},
   "outputs": [
    {
     "ename": "NameError",
     "evalue": "name 'x_sm' is not defined",
     "output_type": "error",
     "traceback": [
      "\u001b[0;31m---------------------------------------------------------------------------\u001b[0m",
      "\u001b[0;31mNameError\u001b[0m                                 Traceback (most recent call last)",
      "\u001b[0;32m<ipython-input-4-ceb6b94427b9>\u001b[0m in \u001b[0;36m<module>\u001b[0;34m\u001b[0m\n\u001b[0;32m----> 1\u001b[0;31m \u001b[0mx_sm\u001b[0m\u001b[0;34m.\u001b[0m\u001b[0mshape\u001b[0m\u001b[0;34m\u001b[0m\u001b[0;34m\u001b[0m\u001b[0m\n\u001b[0m",
      "\u001b[0;31mNameError\u001b[0m: name 'x_sm' is not defined"
     ]
    }
   ],
   "source": [
    "x_sm.shape"
   ]
  },
  {
   "cell_type": "code",
   "execution_count": 19,
   "metadata": {},
   "outputs": [
    {
     "name": "stdout",
     "output_type": "stream",
     "text": [
      "(14442, 49152)\n"
     ]
    }
   ],
   "source": [
    "print(x_sm.shape)"
   ]
  },
  {
   "cell_type": "code",
   "execution_count": 3,
   "metadata": {},
   "outputs": [
    {
     "ename": "NameError",
     "evalue": "name 'x_sm' is not defined",
     "output_type": "error",
     "traceback": [
      "\u001b[0;31m---------------------------------------------------------------------------\u001b[0m",
      "\u001b[0;31mNameError\u001b[0m                                 Traceback (most recent call last)",
      "\u001b[0;32m<ipython-input-3-5c0854ee949e>\u001b[0m in \u001b[0;36m<module>\u001b[0;34m\u001b[0m\n\u001b[1;32m      1\u001b[0m \u001b[0mpca_dims\u001b[0m \u001b[0;34m=\u001b[0m \u001b[0mPCA\u001b[0m\u001b[0;34m(\u001b[0m\u001b[0;34m)\u001b[0m\u001b[0;34m\u001b[0m\u001b[0;34m\u001b[0m\u001b[0m\n\u001b[0;32m----> 2\u001b[0;31m \u001b[0mpca_dims\u001b[0m\u001b[0;34m.\u001b[0m\u001b[0mfit\u001b[0m\u001b[0;34m(\u001b[0m\u001b[0mx_sm\u001b[0m\u001b[0;34m)\u001b[0m\u001b[0;34m\u001b[0m\u001b[0;34m\u001b[0m\u001b[0m\n\u001b[0m\u001b[1;32m      3\u001b[0m \u001b[0mcumsum\u001b[0m \u001b[0;34m=\u001b[0m \u001b[0mnp\u001b[0m\u001b[0;34m.\u001b[0m\u001b[0mcumsum\u001b[0m\u001b[0;34m(\u001b[0m\u001b[0mpca_dims\u001b[0m\u001b[0;34m.\u001b[0m\u001b[0mexplained_variance_ratio_\u001b[0m\u001b[0;34m)\u001b[0m\u001b[0;34m\u001b[0m\u001b[0;34m\u001b[0m\u001b[0m\n\u001b[1;32m      4\u001b[0m \u001b[0md\u001b[0m \u001b[0;34m=\u001b[0m \u001b[0mnp\u001b[0m\u001b[0;34m.\u001b[0m\u001b[0margmax\u001b[0m\u001b[0;34m(\u001b[0m\u001b[0mcumsum\u001b[0m \u001b[0;34m>=\u001b[0m \u001b[0;36m0.95\u001b[0m\u001b[0;34m)\u001b[0m \u001b[0;34m+\u001b[0m \u001b[0;36m1\u001b[0m\u001b[0;34m\u001b[0m\u001b[0;34m\u001b[0m\u001b[0m\n",
      "\u001b[0;31mNameError\u001b[0m: name 'x_sm' is not defined"
     ]
    }
   ],
   "source": [
    "pca_dims = PCA()\n",
    "pca_dims.fit(x_sm)\n",
    "cumsum = np.cumsum(pca_dims.explained_variance_ratio_)\n",
    "d = np.argmax(cumsum >= 0.95) + 1"
   ]
  },
  {
   "cell_type": "code",
   "execution_count": null,
   "metadata": {},
   "outputs": [],
   "source": [
    "print(d)"
   ]
  },
  {
   "cell_type": "code",
   "execution_count": null,
   "metadata": {},
   "outputs": [],
   "source": [
    "pca = PCA(n_components=d)\n",
    "X_reduced = pca.fit_transform(x_sm)\n",
    "X_recovered = pca.inverse_transform(X_reduced)"
   ]
  },
  {
   "cell_type": "code",
   "execution_count": null,
   "metadata": {},
   "outputs": [],
   "source": [
    "print(\"reduced shape: \" + str(X_reduced.shape))\n",
    "print(\"recovered shape: \" + str(X_recovered.shape))"
   ]
  },
  {
   "cell_type": "code",
   "execution_count": null,
   "metadata": {},
   "outputs": [],
   "source": [
    "f = plt.figure()\n",
    "f.add_subplot(1,2, 1)\n",
    "plt.title(\"original\")\n",
    "plt.imshow(X_train[0].reshape((128,128)))\n",
    "f.add_subplot(1,2, 2)\n",
    "\n",
    "plt.title(\"PCA compressed\")\n",
    "plt.imshow(X_recovered[0].reshape((128,128)))\n",
    "plt.show(block=True)"
   ]
  },
  {
   "cell_type": "markdown",
   "metadata": {},
   "source": [
    "<p style=\"color:blue\"><b>run from here</b></p>"
   ]
  },
  {
   "cell_type": "code",
   "execution_count": 23,
   "metadata": {},
   "outputs": [],
   "source": [
    "X_reduced=X_Flatten\n",
    "y_sm=y"
   ]
  },
  {
   "cell_type": "code",
   "execution_count": 26,
   "metadata": {},
   "outputs": [
    {
     "name": "stdout",
     "output_type": "stream",
     "text": [
      "Iteration 1, loss = 1.15891238\n",
      "Validation score: 0.802000\n",
      "Iteration 2, loss = 0.45969893\n",
      "Validation score: 0.800000\n",
      "Iteration 3, loss = 0.41604680\n",
      "Validation score: 0.804000\n",
      "Iteration 4, loss = 0.46278095\n",
      "Validation score: 0.769000\n",
      "Iteration 5, loss = 0.51447270\n",
      "Validation score: 0.805000\n",
      "Iteration 6, loss = 0.38504684\n",
      "Validation score: 0.812000\n",
      "Iteration 7, loss = 0.36320433\n",
      "Validation score: 0.816000\n",
      "Iteration 8, loss = 0.35693297\n",
      "Validation score: 0.820000\n",
      "Iteration 9, loss = 0.34241391\n",
      "Validation score: 0.815000\n",
      "Iteration 10, loss = 0.33147582\n",
      "Validation score: 0.809000\n",
      "Iteration 11, loss = 0.32144563\n",
      "Validation score: 0.792000\n",
      "Iteration 12, loss = 0.31104737\n",
      "Validation score: 0.805000\n",
      "Iteration 13, loss = 0.29360113\n",
      "Validation score: 0.803000\n",
      "Iteration 14, loss = 0.27555546\n",
      "Validation score: 0.815000\n",
      "Iteration 15, loss = 0.28025989\n",
      "Validation score: 0.808000\n",
      "Iteration 16, loss = 0.30233894\n",
      "Validation score: 0.817000\n",
      "Iteration 17, loss = 0.29193553\n",
      "Validation score: 0.623000\n",
      "Iteration 18, loss = 0.31981593\n",
      "Validation score: 0.814000\n",
      "Iteration 19, loss = 0.25994268\n",
      "Validation score: 0.793000\n",
      "Validation score did not improve more than tol=0.000100 for 10 consecutive epochs. Stopping.\n"
     ]
    },
    {
     "data": {
      "text/plain": [
       "MLPClassifier(alpha=1e-05, early_stopping=True,\n",
       "              hidden_layer_sizes=(100, 100, 100), verbose=2)"
      ]
     },
     "execution_count": 26,
     "metadata": {},
     "output_type": "execute_result"
    }
   ],
   "source": [
    "clf_reduced = MLPClassifier(\n",
    "    solver='adam', \n",
    "    alpha=1e-5, \n",
    "    hidden_layer_sizes=(100, 100, 100), \n",
    "    early_stopping=True,\n",
    "    verbose=2\n",
    ")\n",
    "clf_reduced.fit(X_reduced, y_sm)"
   ]
  },
  {
   "cell_type": "code",
   "execution_count": 38,
   "metadata": {},
   "outputs": [
    {
     "data": {
      "text/plain": [
       "[0.802,\n",
       " 0.8,\n",
       " 0.804,\n",
       " 0.769,\n",
       " 0.805,\n",
       " 0.812,\n",
       " 0.816,\n",
       " 0.82,\n",
       " 0.815,\n",
       " 0.809,\n",
       " 0.792,\n",
       " 0.805,\n",
       " 0.803,\n",
       " 0.815,\n",
       " 0.808,\n",
       " 0.817,\n",
       " 0.623,\n",
       " 0.814,\n",
       " 0.793]"
      ]
     },
     "execution_count": 38,
     "metadata": {},
     "output_type": "execute_result"
    }
   ],
   "source": [
    "clf_reduced.validation_scores_"
   ]
  },
  {
   "cell_type": "markdown",
   "metadata": {},
   "source": [
    "<p style=\"color:yellow\">validation set validation curve</p>"
   ]
  },
  {
   "cell_type": "code",
   "execution_count": 46,
   "metadata": {},
   "outputs": [
    {
     "data": {
      "image/png": "[encoded data removed]",
      "text/plain": [
       "<Figure size 432x288 with 1 Axes>"
      ]
     },
     "metadata": {
      "needs_background": "light"
     },
     "output_type": "display_data"
    }
   ],
   "source": [
    "# fig=plt.subplot()\n",
    "pd.Series(clf_reduced.validation_scores_).plot(\n",
    "    color='k',\n",
    "    kind='line'\n",
    "#     ax=axs\n",
    ")\n",
    "plt.show()"
   ]
  },
  {
   "cell_type": "markdown",
   "metadata": {},
   "source": [
    "<p>it means that the optimistic acuracy is 0.793. in test cases it should work slightly worse</p>"
   ]
  },
  {
   "cell_type": "markdown",
   "metadata": {},
   "source": [
    "<p>creating test set</p>"
   ]
  },
  {
   "cell_type": "code",
   "execution_count": null,
   "metadata": {},
   "outputs": [],
   "source": [
    "df_test="
   ]
  },
  {
   "cell_type": "markdown",
   "metadata": {},
   "source": [
    "<p style=\"color:red\"><b>not finished because we have to design our work flow.</b></p>"
   ]
  },
  {
   "cell_type": "code",
   "execution_count": null,
   "metadata": {},
   "outputs": [],
   "source": []
  }
 ],
 "metadata": {
  "kernelspec": {
   "display_name": "Python 3",
   "language": "python",
   "name": "python3"
  },
  "language_info": {
   "codemirror_mode": {
    "name": "ipython",
    "version": 3
   },
   "file_extension": ".py",
   "mimetype": "text/x-python",
   "name": "python",
   "nbconvert_exporter": "python",
   "pygments_lexer": "ipython3",
   "version": "3.8.3"
  }
 },
 "nbformat": 4,
 "nbformat_minor": 4
}
