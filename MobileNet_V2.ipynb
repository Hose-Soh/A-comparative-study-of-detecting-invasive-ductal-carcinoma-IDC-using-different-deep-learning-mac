{
 "cells": [
  {
   "cell_type": "code",
   "execution_count": 1,
   "metadata": {},
   "outputs": [],
   "source": [
    "# import cv2\n",
    "import pandas as pd\n",
    "import numpy as np\n",
    "import glob,os"
   ]
  },
  {
   "cell_type": "code",
   "execution_count": 2,
   "metadata": {},
   "outputs": [
    {
     "name": "stdout",
     "output_type": "stream",
     "text": [
      "Number of the patient : 280\n"
     ]
    }
   ],
   "source": [
    "image_pathes='archive/*'\n",
    "patient_list = list(glob.glob(image_pathes))\n",
    "print('Number of the patient :'+' '+str(len(patient_list)))\n",
    "# print(patient_list)"
   ]
  },
  {
   "cell_type": "code",
   "execution_count": 3,
   "metadata": {},
   "outputs": [
    {
     "name": "stdout",
     "output_type": "stream",
     "text": [
      "278082\n"
     ]
    }
   ],
   "source": [
    "# total images in both cancerous and non-cancerous cell\n",
    "sum = 0\n",
    "for i in range(len(patient_list)):\n",
    "    sum+=len(glob.glob(patient_list[i]+'/*/*'))\n",
    "print(sum)"
   ]
  },
  {
   "cell_type": "code",
   "execution_count": 4,
   "metadata": {},
   "outputs": [
    {
     "name": "stdout",
     "output_type": "stream",
     "text": [
      "['archive\\\\IDC_regular_ps50_idx5\\\\10253\\\\0', 'archive\\\\IDC_regular_ps50_idx5\\\\10253\\\\1', 'archive\\\\IDC_regular_ps50_idx5\\\\10254\\\\0', 'archive\\\\IDC_regular_ps50_idx5\\\\10254\\\\1', 'archive\\\\IDC_regular_ps50_idx5\\\\10255\\\\0', 'archive\\\\IDC_regular_ps50_idx5\\\\10255\\\\1', 'archive\\\\IDC_regular_ps50_idx5\\\\10256\\\\0', 'archive\\\\IDC_regular_ps50_idx5\\\\10256\\\\1', 'archive\\\\IDC_regular_ps50_idx5\\\\10257\\\\0', 'archive\\\\IDC_regular_ps50_idx5\\\\10257\\\\1', 'archive\\\\IDC_regular_ps50_idx5\\\\10258\\\\0', 'archive\\\\IDC_regular_ps50_idx5\\\\10258\\\\1', 'archive\\\\IDC_regular_ps50_idx5\\\\10259\\\\0', 'archive\\\\IDC_regular_ps50_idx5\\\\10259\\\\1', 'archive\\\\IDC_regular_ps50_idx5\\\\10260\\\\0', 'archive\\\\IDC_regular_ps50_idx5\\\\10260\\\\1', 'archive\\\\IDC_regular_ps50_idx5\\\\10261\\\\0', 'archive\\\\IDC_regular_ps50_idx5\\\\10261\\\\1', 'archive\\\\IDC_regular_ps50_idx5\\\\10262\\\\0', 'archive\\\\IDC_regular_ps50_idx5\\\\10262\\\\1', 'archive\\\\IDC_regular_ps50_idx5\\\\10264\\\\0', 'archive\\\\IDC_regular_ps50_idx5\\\\10264\\\\1', 'archive\\\\IDC_regular_ps50_idx5\\\\10268\\\\0', 'archive\\\\IDC_regular_ps50_idx5\\\\10268\\\\1', 'archive\\\\IDC_regular_ps50_idx5\\\\10269\\\\0', 'archive\\\\IDC_regular_ps50_idx5\\\\10269\\\\1', 'archive\\\\IDC_regular_ps50_idx5\\\\10272\\\\0', 'archive\\\\IDC_regular_ps50_idx5\\\\10272\\\\1', 'archive\\\\IDC_regular_ps50_idx5\\\\10273\\\\0', 'archive\\\\IDC_regular_ps50_idx5\\\\10273\\\\1', 'archive\\\\IDC_regular_ps50_idx5\\\\10274\\\\0', 'archive\\\\IDC_regular_ps50_idx5\\\\10274\\\\1', 'archive\\\\IDC_regular_ps50_idx5\\\\10275\\\\0', 'archive\\\\IDC_regular_ps50_idx5\\\\10275\\\\1', 'archive\\\\IDC_regular_ps50_idx5\\\\10276\\\\0', 'archive\\\\IDC_regular_ps50_idx5\\\\10276\\\\1', 'archive\\\\IDC_regular_ps50_idx5\\\\10277\\\\0', 'archive\\\\IDC_regular_ps50_idx5\\\\10277\\\\1', 'archive\\\\IDC_regular_ps50_idx5\\\\10278\\\\0', 'archive\\\\IDC_regular_ps50_idx5\\\\10278\\\\1', 'archive\\\\IDC_regular_ps50_idx5\\\\10279\\\\0', 'archive\\\\IDC_regular_ps50_idx5\\\\10279\\\\1', 'archive\\\\IDC_regular_ps50_idx5\\\\10282\\\\0', 'archive\\\\IDC_regular_ps50_idx5\\\\10282\\\\1', 'archive\\\\IDC_regular_ps50_idx5\\\\10285\\\\0', 'archive\\\\IDC_regular_ps50_idx5\\\\10285\\\\1', 'archive\\\\IDC_regular_ps50_idx5\\\\10286\\\\0', 'archive\\\\IDC_regular_ps50_idx5\\\\10286\\\\1', 'archive\\\\IDC_regular_ps50_idx5\\\\10288\\\\0', 'archive\\\\IDC_regular_ps50_idx5\\\\10288\\\\1', 'archive\\\\IDC_regular_ps50_idx5\\\\10290\\\\0', 'archive\\\\IDC_regular_ps50_idx5\\\\10290\\\\1', 'archive\\\\IDC_regular_ps50_idx5\\\\10291\\\\0', 'archive\\\\IDC_regular_ps50_idx5\\\\10291\\\\1', 'archive\\\\IDC_regular_ps50_idx5\\\\10292\\\\0', 'archive\\\\IDC_regular_ps50_idx5\\\\10292\\\\1', 'archive\\\\IDC_regular_ps50_idx5\\\\10293\\\\0', 'archive\\\\IDC_regular_ps50_idx5\\\\10293\\\\1', 'archive\\\\IDC_regular_ps50_idx5\\\\10295\\\\0', 'archive\\\\IDC_regular_ps50_idx5\\\\10295\\\\1', 'archive\\\\IDC_regular_ps50_idx5\\\\10299\\\\0', 'archive\\\\IDC_regular_ps50_idx5\\\\10299\\\\1', 'archive\\\\IDC_regular_ps50_idx5\\\\10300\\\\0', 'archive\\\\IDC_regular_ps50_idx5\\\\10300\\\\1', 'archive\\\\IDC_regular_ps50_idx5\\\\10301\\\\0', 'archive\\\\IDC_regular_ps50_idx5\\\\10301\\\\1', 'archive\\\\IDC_regular_ps50_idx5\\\\10302\\\\0', 'archive\\\\IDC_regular_ps50_idx5\\\\10302\\\\1', 'archive\\\\IDC_regular_ps50_idx5\\\\10303\\\\0', 'archive\\\\IDC_regular_ps50_idx5\\\\10303\\\\1', 'archive\\\\IDC_regular_ps50_idx5\\\\10304\\\\0', 'archive\\\\IDC_regular_ps50_idx5\\\\10304\\\\1', 'archive\\\\IDC_regular_ps50_idx5\\\\10305\\\\0', 'archive\\\\IDC_regular_ps50_idx5\\\\10305\\\\1', 'archive\\\\IDC_regular_ps50_idx5\\\\10306\\\\0', 'archive\\\\IDC_regular_ps50_idx5\\\\10306\\\\1', 'archive\\\\IDC_regular_ps50_idx5\\\\10307\\\\0', 'archive\\\\IDC_regular_ps50_idx5\\\\10307\\\\1', 'archive\\\\IDC_regular_ps50_idx5\\\\10308\\\\0', 'archive\\\\IDC_regular_ps50_idx5\\\\10308\\\\1', 'archive\\\\IDC_regular_ps50_idx5\\\\12241\\\\0', 'archive\\\\IDC_regular_ps50_idx5\\\\12241\\\\1', 'archive\\\\IDC_regular_ps50_idx5\\\\12242\\\\0', 'archive\\\\IDC_regular_ps50_idx5\\\\12242\\\\1', 'archive\\\\IDC_regular_ps50_idx5\\\\12626\\\\0', 'archive\\\\IDC_regular_ps50_idx5\\\\12626\\\\1', 'archive\\\\IDC_regular_ps50_idx5\\\\12748\\\\0', 'archive\\\\IDC_regular_ps50_idx5\\\\12748\\\\1', 'archive\\\\IDC_regular_ps50_idx5\\\\12749\\\\0', 'archive\\\\IDC_regular_ps50_idx5\\\\12749\\\\1', 'archive\\\\IDC_regular_ps50_idx5\\\\12750\\\\0', 'archive\\\\IDC_regular_ps50_idx5\\\\12750\\\\1', 'archive\\\\IDC_regular_ps50_idx5\\\\12751\\\\0', 'archive\\\\IDC_regular_ps50_idx5\\\\12751\\\\1', 'archive\\\\IDC_regular_ps50_idx5\\\\12752\\\\0', 'archive\\\\IDC_regular_ps50_idx5\\\\12752\\\\1', 'archive\\\\IDC_regular_ps50_idx5\\\\12810\\\\0', 'archive\\\\IDC_regular_ps50_idx5\\\\12810\\\\1', 'archive\\\\IDC_regular_ps50_idx5\\\\12811\\\\0', 'archive\\\\IDC_regular_ps50_idx5\\\\12811\\\\1', 'archive\\\\IDC_regular_ps50_idx5\\\\12817\\\\0', 'archive\\\\IDC_regular_ps50_idx5\\\\12817\\\\1', 'archive\\\\IDC_regular_ps50_idx5\\\\12818\\\\0', 'archive\\\\IDC_regular_ps50_idx5\\\\12818\\\\1', 'archive\\\\IDC_regular_ps50_idx5\\\\12819\\\\0', 'archive\\\\IDC_regular_ps50_idx5\\\\12819\\\\1', 'archive\\\\IDC_regular_ps50_idx5\\\\12820\\\\0', 'archive\\\\IDC_regular_ps50_idx5\\\\12820\\\\1', 'archive\\\\IDC_regular_ps50_idx5\\\\12821\\\\0', 'archive\\\\IDC_regular_ps50_idx5\\\\12821\\\\1', 'archive\\\\IDC_regular_ps50_idx5\\\\12822\\\\0', 'archive\\\\IDC_regular_ps50_idx5\\\\12822\\\\1', 'archive\\\\IDC_regular_ps50_idx5\\\\12823\\\\0', 'archive\\\\IDC_regular_ps50_idx5\\\\12823\\\\1', 'archive\\\\IDC_regular_ps50_idx5\\\\12824\\\\0', 'archive\\\\IDC_regular_ps50_idx5\\\\12824\\\\1', 'archive\\\\IDC_regular_ps50_idx5\\\\12826\\\\0', 'archive\\\\IDC_regular_ps50_idx5\\\\12826\\\\1', 'archive\\\\IDC_regular_ps50_idx5\\\\12867\\\\0', 'archive\\\\IDC_regular_ps50_idx5\\\\12867\\\\1', 'archive\\\\IDC_regular_ps50_idx5\\\\12868\\\\0', 'archive\\\\IDC_regular_ps50_idx5\\\\12868\\\\1', 'archive\\\\IDC_regular_ps50_idx5\\\\12869\\\\0', 'archive\\\\IDC_regular_ps50_idx5\\\\12869\\\\1', 'archive\\\\IDC_regular_ps50_idx5\\\\12870\\\\0', 'archive\\\\IDC_regular_ps50_idx5\\\\12870\\\\1', 'archive\\\\IDC_regular_ps50_idx5\\\\12871\\\\0', 'archive\\\\IDC_regular_ps50_idx5\\\\12871\\\\1', 'archive\\\\IDC_regular_ps50_idx5\\\\12872\\\\0', 'archive\\\\IDC_regular_ps50_idx5\\\\12872\\\\1', 'archive\\\\IDC_regular_ps50_idx5\\\\12873\\\\0', 'archive\\\\IDC_regular_ps50_idx5\\\\12873\\\\1', 'archive\\\\IDC_regular_ps50_idx5\\\\12875\\\\0', 'archive\\\\IDC_regular_ps50_idx5\\\\12875\\\\1', 'archive\\\\IDC_regular_ps50_idx5\\\\12876\\\\0', 'archive\\\\IDC_regular_ps50_idx5\\\\12876\\\\1', 'archive\\\\IDC_regular_ps50_idx5\\\\12877\\\\0', 'archive\\\\IDC_regular_ps50_idx5\\\\12877\\\\1', 'archive\\\\IDC_regular_ps50_idx5\\\\12878\\\\0', 'archive\\\\IDC_regular_ps50_idx5\\\\12878\\\\1', 'archive\\\\IDC_regular_ps50_idx5\\\\12879\\\\0', 'archive\\\\IDC_regular_ps50_idx5\\\\12879\\\\1', 'archive\\\\IDC_regular_ps50_idx5\\\\12880\\\\0', 'archive\\\\IDC_regular_ps50_idx5\\\\12880\\\\1', 'archive\\\\IDC_regular_ps50_idx5\\\\12881\\\\0', 'archive\\\\IDC_regular_ps50_idx5\\\\12881\\\\1', 'archive\\\\IDC_regular_ps50_idx5\\\\12882\\\\0', 'archive\\\\IDC_regular_ps50_idx5\\\\12882\\\\1', 'archive\\\\IDC_regular_ps50_idx5\\\\12883\\\\0', 'archive\\\\IDC_regular_ps50_idx5\\\\12883\\\\1', 'archive\\\\IDC_regular_ps50_idx5\\\\12884\\\\0', 'archive\\\\IDC_regular_ps50_idx5\\\\12884\\\\1', 'archive\\\\IDC_regular_ps50_idx5\\\\12886\\\\0', 'archive\\\\IDC_regular_ps50_idx5\\\\12886\\\\1', 'archive\\\\IDC_regular_ps50_idx5\\\\12890\\\\0', 'archive\\\\IDC_regular_ps50_idx5\\\\12890\\\\1', 'archive\\\\IDC_regular_ps50_idx5\\\\12891\\\\0', 'archive\\\\IDC_regular_ps50_idx5\\\\12891\\\\1', 'archive\\\\IDC_regular_ps50_idx5\\\\12892\\\\0', 'archive\\\\IDC_regular_ps50_idx5\\\\12892\\\\1', 'archive\\\\IDC_regular_ps50_idx5\\\\12893\\\\0', 'archive\\\\IDC_regular_ps50_idx5\\\\12893\\\\1', 'archive\\\\IDC_regular_ps50_idx5\\\\12894\\\\0', 'archive\\\\IDC_regular_ps50_idx5\\\\12894\\\\1', 'archive\\\\IDC_regular_ps50_idx5\\\\12895\\\\0', 'archive\\\\IDC_regular_ps50_idx5\\\\12895\\\\1', 'archive\\\\IDC_regular_ps50_idx5\\\\12896\\\\0', 'archive\\\\IDC_regular_ps50_idx5\\\\12896\\\\1', 'archive\\\\IDC_regular_ps50_idx5\\\\12897\\\\0', 'archive\\\\IDC_regular_ps50_idx5\\\\12897\\\\1', 'archive\\\\IDC_regular_ps50_idx5\\\\12898\\\\0', 'archive\\\\IDC_regular_ps50_idx5\\\\12898\\\\1', 'archive\\\\IDC_regular_ps50_idx5\\\\12900\\\\0', 'archive\\\\IDC_regular_ps50_idx5\\\\12900\\\\1', 'archive\\\\IDC_regular_ps50_idx5\\\\12901\\\\0', 'archive\\\\IDC_regular_ps50_idx5\\\\12901\\\\1', 'archive\\\\IDC_regular_ps50_idx5\\\\12905\\\\0', 'archive\\\\IDC_regular_ps50_idx5\\\\12905\\\\1', 'archive\\\\IDC_regular_ps50_idx5\\\\12906\\\\0', 'archive\\\\IDC_regular_ps50_idx5\\\\12906\\\\1', 'archive\\\\IDC_regular_ps50_idx5\\\\12907\\\\0', 'archive\\\\IDC_regular_ps50_idx5\\\\12907\\\\1', 'archive\\\\IDC_regular_ps50_idx5\\\\12908\\\\0', 'archive\\\\IDC_regular_ps50_idx5\\\\12908\\\\1', 'archive\\\\IDC_regular_ps50_idx5\\\\12909\\\\0', 'archive\\\\IDC_regular_ps50_idx5\\\\12909\\\\1', 'archive\\\\IDC_regular_ps50_idx5\\\\12910\\\\0', 'archive\\\\IDC_regular_ps50_idx5\\\\12910\\\\1', 'archive\\\\IDC_regular_ps50_idx5\\\\12911\\\\0', 'archive\\\\IDC_regular_ps50_idx5\\\\12911\\\\1', 'archive\\\\IDC_regular_ps50_idx5\\\\12929\\\\0', 'archive\\\\IDC_regular_ps50_idx5\\\\12929\\\\1', 'archive\\\\IDC_regular_ps50_idx5\\\\12930\\\\0', 'archive\\\\IDC_regular_ps50_idx5\\\\12930\\\\1', 'archive\\\\IDC_regular_ps50_idx5\\\\12931\\\\0', 'archive\\\\IDC_regular_ps50_idx5\\\\12931\\\\1', 'archive\\\\IDC_regular_ps50_idx5\\\\12932\\\\0', 'archive\\\\IDC_regular_ps50_idx5\\\\12932\\\\1', 'archive\\\\IDC_regular_ps50_idx5\\\\12933\\\\0', 'archive\\\\IDC_regular_ps50_idx5\\\\12933\\\\1', 'archive\\\\IDC_regular_ps50_idx5\\\\12934\\\\0', 'archive\\\\IDC_regular_ps50_idx5\\\\12934\\\\1', 'archive\\\\IDC_regular_ps50_idx5\\\\12935\\\\0', 'archive\\\\IDC_regular_ps50_idx5\\\\12935\\\\1', 'archive\\\\IDC_regular_ps50_idx5\\\\12947\\\\0', 'archive\\\\IDC_regular_ps50_idx5\\\\12947\\\\1', 'archive\\\\IDC_regular_ps50_idx5\\\\12948\\\\0', 'archive\\\\IDC_regular_ps50_idx5\\\\12948\\\\1', 'archive\\\\IDC_regular_ps50_idx5\\\\12949\\\\0', 'archive\\\\IDC_regular_ps50_idx5\\\\12949\\\\1', 'archive\\\\IDC_regular_ps50_idx5\\\\12951\\\\0', 'archive\\\\IDC_regular_ps50_idx5\\\\12951\\\\1', 'archive\\\\IDC_regular_ps50_idx5\\\\12954\\\\0', 'archive\\\\IDC_regular_ps50_idx5\\\\12954\\\\1', 'archive\\\\IDC_regular_ps50_idx5\\\\12955\\\\0', 'archive\\\\IDC_regular_ps50_idx5\\\\12955\\\\1', 'archive\\\\IDC_regular_ps50_idx5\\\\13018\\\\0', 'archive\\\\IDC_regular_ps50_idx5\\\\13018\\\\1', 'archive\\\\IDC_regular_ps50_idx5\\\\13019\\\\0', 'archive\\\\IDC_regular_ps50_idx5\\\\13019\\\\1', 'archive\\\\IDC_regular_ps50_idx5\\\\13020\\\\0', 'archive\\\\IDC_regular_ps50_idx5\\\\13020\\\\1', 'archive\\\\IDC_regular_ps50_idx5\\\\13021\\\\0', 'archive\\\\IDC_regular_ps50_idx5\\\\13021\\\\1', 'archive\\\\IDC_regular_ps50_idx5\\\\13022\\\\0', 'archive\\\\IDC_regular_ps50_idx5\\\\13022\\\\1', 'archive\\\\IDC_regular_ps50_idx5\\\\13023\\\\0', 'archive\\\\IDC_regular_ps50_idx5\\\\13023\\\\1', 'archive\\\\IDC_regular_ps50_idx5\\\\13024\\\\0', 'archive\\\\IDC_regular_ps50_idx5\\\\13024\\\\1', 'archive\\\\IDC_regular_ps50_idx5\\\\13025\\\\0', 'archive\\\\IDC_regular_ps50_idx5\\\\13025\\\\1', 'archive\\\\IDC_regular_ps50_idx5\\\\13106\\\\0', 'archive\\\\IDC_regular_ps50_idx5\\\\13106\\\\1', 'archive\\\\IDC_regular_ps50_idx5\\\\13400\\\\0', 'archive\\\\IDC_regular_ps50_idx5\\\\13400\\\\1', 'archive\\\\IDC_regular_ps50_idx5\\\\13401\\\\0', 'archive\\\\IDC_regular_ps50_idx5\\\\13401\\\\1', 'archive\\\\IDC_regular_ps50_idx5\\\\13402\\\\0', 'archive\\\\IDC_regular_ps50_idx5\\\\13402\\\\1', 'archive\\\\IDC_regular_ps50_idx5\\\\13403\\\\0', 'archive\\\\IDC_regular_ps50_idx5\\\\13403\\\\1', 'archive\\\\IDC_regular_ps50_idx5\\\\13404\\\\0', 'archive\\\\IDC_regular_ps50_idx5\\\\13404\\\\1', 'archive\\\\IDC_regular_ps50_idx5\\\\13458\\\\0', 'archive\\\\IDC_regular_ps50_idx5\\\\13458\\\\1', 'archive\\\\IDC_regular_ps50_idx5\\\\13459\\\\0', 'archive\\\\IDC_regular_ps50_idx5\\\\13459\\\\1', 'archive\\\\IDC_regular_ps50_idx5\\\\13460\\\\0', 'archive\\\\IDC_regular_ps50_idx5\\\\13460\\\\1', 'archive\\\\IDC_regular_ps50_idx5\\\\13461\\\\0', 'archive\\\\IDC_regular_ps50_idx5\\\\13461\\\\1', 'archive\\\\IDC_regular_ps50_idx5\\\\13462\\\\0', 'archive\\\\IDC_regular_ps50_idx5\\\\13462\\\\1', 'archive\\\\IDC_regular_ps50_idx5\\\\13591\\\\0', 'archive\\\\IDC_regular_ps50_idx5\\\\13591\\\\1', 'archive\\\\IDC_regular_ps50_idx5\\\\13613\\\\0', 'archive\\\\IDC_regular_ps50_idx5\\\\13613\\\\1', 'archive\\\\IDC_regular_ps50_idx5\\\\13616\\\\0', 'archive\\\\IDC_regular_ps50_idx5\\\\13616\\\\1', 'archive\\\\IDC_regular_ps50_idx5\\\\13617\\\\0', 'archive\\\\IDC_regular_ps50_idx5\\\\13617\\\\1', 'archive\\\\IDC_regular_ps50_idx5\\\\13666\\\\0', 'archive\\\\IDC_regular_ps50_idx5\\\\13666\\\\1', 'archive\\\\IDC_regular_ps50_idx5\\\\13687\\\\0', 'archive\\\\IDC_regular_ps50_idx5\\\\13687\\\\1', 'archive\\\\IDC_regular_ps50_idx5\\\\13688\\\\0', 'archive\\\\IDC_regular_ps50_idx5\\\\13688\\\\1', 'archive\\\\IDC_regular_ps50_idx5\\\\13689\\\\0', 'archive\\\\IDC_regular_ps50_idx5\\\\13689\\\\1', 'archive\\\\IDC_regular_ps50_idx5\\\\13691\\\\0', 'archive\\\\IDC_regular_ps50_idx5\\\\13691\\\\1', 'archive\\\\IDC_regular_ps50_idx5\\\\13692\\\\0', 'archive\\\\IDC_regular_ps50_idx5\\\\13692\\\\1', 'archive\\\\IDC_regular_ps50_idx5\\\\13693\\\\0', 'archive\\\\IDC_regular_ps50_idx5\\\\13693\\\\1', 'archive\\\\IDC_regular_ps50_idx5\\\\13694\\\\0', 'archive\\\\IDC_regular_ps50_idx5\\\\13694\\\\1', 'archive\\\\IDC_regular_ps50_idx5\\\\13916\\\\0', 'archive\\\\IDC_regular_ps50_idx5\\\\13916\\\\1', 'archive\\\\IDC_regular_ps50_idx5\\\\14078\\\\0', 'archive\\\\IDC_regular_ps50_idx5\\\\14078\\\\1', 'archive\\\\IDC_regular_ps50_idx5\\\\14079\\\\0', 'archive\\\\IDC_regular_ps50_idx5\\\\14079\\\\1', 'archive\\\\IDC_regular_ps50_idx5\\\\14081\\\\0', 'archive\\\\IDC_regular_ps50_idx5\\\\14081\\\\1', 'archive\\\\IDC_regular_ps50_idx5\\\\14082\\\\0', 'archive\\\\IDC_regular_ps50_idx5\\\\14082\\\\1', 'archive\\\\IDC_regular_ps50_idx5\\\\14153\\\\0', 'archive\\\\IDC_regular_ps50_idx5\\\\14153\\\\1', 'archive\\\\IDC_regular_ps50_idx5\\\\14154\\\\0', 'archive\\\\IDC_regular_ps50_idx5\\\\14154\\\\1', 'archive\\\\IDC_regular_ps50_idx5\\\\14155\\\\0', 'archive\\\\IDC_regular_ps50_idx5\\\\14155\\\\1', 'archive\\\\IDC_regular_ps50_idx5\\\\14156\\\\0', 'archive\\\\IDC_regular_ps50_idx5\\\\14156\\\\1', 'archive\\\\IDC_regular_ps50_idx5\\\\14157\\\\0', 'archive\\\\IDC_regular_ps50_idx5\\\\14157\\\\1', 'archive\\\\IDC_regular_ps50_idx5\\\\14188\\\\0', 'archive\\\\IDC_regular_ps50_idx5\\\\14188\\\\1', 'archive\\\\IDC_regular_ps50_idx5\\\\14189\\\\0', 'archive\\\\IDC_regular_ps50_idx5\\\\14189\\\\1', 'archive\\\\IDC_regular_ps50_idx5\\\\14190\\\\0', 'archive\\\\IDC_regular_ps50_idx5\\\\14190\\\\1', 'archive\\\\IDC_regular_ps50_idx5\\\\14191\\\\0', 'archive\\\\IDC_regular_ps50_idx5\\\\14191\\\\1', 'archive\\\\IDC_regular_ps50_idx5\\\\14192\\\\0', 'archive\\\\IDC_regular_ps50_idx5\\\\14192\\\\1', 'archive\\\\IDC_regular_ps50_idx5\\\\14209\\\\0', 'archive\\\\IDC_regular_ps50_idx5\\\\14209\\\\1', 'archive\\\\IDC_regular_ps50_idx5\\\\14210\\\\0', 'archive\\\\IDC_regular_ps50_idx5\\\\14210\\\\1', 'archive\\\\IDC_regular_ps50_idx5\\\\14211\\\\0', 'archive\\\\IDC_regular_ps50_idx5\\\\14211\\\\1', 'archive\\\\IDC_regular_ps50_idx5\\\\14212\\\\0', 'archive\\\\IDC_regular_ps50_idx5\\\\14212\\\\1', 'archive\\\\IDC_regular_ps50_idx5\\\\14213\\\\0', 'archive\\\\IDC_regular_ps50_idx5\\\\14213\\\\1', 'archive\\\\IDC_regular_ps50_idx5\\\\14304\\\\0', 'archive\\\\IDC_regular_ps50_idx5\\\\14304\\\\1', 'archive\\\\IDC_regular_ps50_idx5\\\\14305\\\\0', 'archive\\\\IDC_regular_ps50_idx5\\\\14305\\\\1', 'archive\\\\IDC_regular_ps50_idx5\\\\14306\\\\0', 'archive\\\\IDC_regular_ps50_idx5\\\\14306\\\\1', 'archive\\\\IDC_regular_ps50_idx5\\\\14321\\\\0', 'archive\\\\IDC_regular_ps50_idx5\\\\14321\\\\1', 'archive\\\\IDC_regular_ps50_idx5\\\\15471\\\\0', 'archive\\\\IDC_regular_ps50_idx5\\\\15471\\\\1', 'archive\\\\IDC_regular_ps50_idx5\\\\15472\\\\0', 'archive\\\\IDC_regular_ps50_idx5\\\\15472\\\\1', 'archive\\\\IDC_regular_ps50_idx5\\\\15473\\\\0', 'archive\\\\IDC_regular_ps50_idx5\\\\15473\\\\1', 'archive\\\\IDC_regular_ps50_idx5\\\\15510\\\\0', 'archive\\\\IDC_regular_ps50_idx5\\\\15510\\\\1', 'archive\\\\IDC_regular_ps50_idx5\\\\15512\\\\0', 'archive\\\\IDC_regular_ps50_idx5\\\\15512\\\\1', 'archive\\\\IDC_regular_ps50_idx5\\\\15513\\\\0', 'archive\\\\IDC_regular_ps50_idx5\\\\15513\\\\1', 'archive\\\\IDC_regular_ps50_idx5\\\\15514\\\\0', 'archive\\\\IDC_regular_ps50_idx5\\\\15514\\\\1', 'archive\\\\IDC_regular_ps50_idx5\\\\15515\\\\0', 'archive\\\\IDC_regular_ps50_idx5\\\\15515\\\\1', 'archive\\\\IDC_regular_ps50_idx5\\\\15516\\\\0', 'archive\\\\IDC_regular_ps50_idx5\\\\15516\\\\1', 'archive\\\\IDC_regular_ps50_idx5\\\\15632\\\\0', 'archive\\\\IDC_regular_ps50_idx5\\\\15632\\\\1', 'archive\\\\IDC_regular_ps50_idx5\\\\15633\\\\0', 'archive\\\\IDC_regular_ps50_idx5\\\\15633\\\\1', 'archive\\\\IDC_regular_ps50_idx5\\\\15634\\\\0', 'archive\\\\IDC_regular_ps50_idx5\\\\15634\\\\1', 'archive\\\\IDC_regular_ps50_idx5\\\\15839\\\\0', 'archive\\\\IDC_regular_ps50_idx5\\\\15839\\\\1', 'archive\\\\IDC_regular_ps50_idx5\\\\15840\\\\0', 'archive\\\\IDC_regular_ps50_idx5\\\\15840\\\\1', 'archive\\\\IDC_regular_ps50_idx5\\\\15902\\\\0', 'archive\\\\IDC_regular_ps50_idx5\\\\15902\\\\1', 'archive\\\\IDC_regular_ps50_idx5\\\\15903\\\\0', 'archive\\\\IDC_regular_ps50_idx5\\\\15903\\\\1', 'archive\\\\IDC_regular_ps50_idx5\\\\16014\\\\0', 'archive\\\\IDC_regular_ps50_idx5\\\\16014\\\\1', 'archive\\\\IDC_regular_ps50_idx5\\\\16085\\\\0', 'archive\\\\IDC_regular_ps50_idx5\\\\16085\\\\1', 'archive\\\\IDC_regular_ps50_idx5\\\\16165\\\\0', 'archive\\\\IDC_regular_ps50_idx5\\\\16165\\\\1', 'archive\\\\IDC_regular_ps50_idx5\\\\16166\\\\0', 'archive\\\\IDC_regular_ps50_idx5\\\\16166\\\\1', 'archive\\\\IDC_regular_ps50_idx5\\\\16167\\\\0', 'archive\\\\IDC_regular_ps50_idx5\\\\16167\\\\1', 'archive\\\\IDC_regular_ps50_idx5\\\\16531\\\\0', 'archive\\\\IDC_regular_ps50_idx5\\\\16531\\\\1', 'archive\\\\IDC_regular_ps50_idx5\\\\16532\\\\0', 'archive\\\\IDC_regular_ps50_idx5\\\\16532\\\\1', 'archive\\\\IDC_regular_ps50_idx5\\\\16533\\\\0', 'archive\\\\IDC_regular_ps50_idx5\\\\16533\\\\1', 'archive\\\\IDC_regular_ps50_idx5\\\\16534\\\\0', 'archive\\\\IDC_regular_ps50_idx5\\\\16534\\\\1', 'archive\\\\IDC_regular_ps50_idx5\\\\16550\\\\0', 'archive\\\\IDC_regular_ps50_idx5\\\\16550\\\\1', 'archive\\\\IDC_regular_ps50_idx5\\\\16551\\\\0', 'archive\\\\IDC_regular_ps50_idx5\\\\16551\\\\1', 'archive\\\\IDC_regular_ps50_idx5\\\\16552\\\\0', 'archive\\\\IDC_regular_ps50_idx5\\\\16552\\\\1', 'archive\\\\IDC_regular_ps50_idx5\\\\16553\\\\0', 'archive\\\\IDC_regular_ps50_idx5\\\\16553\\\\1', 'archive\\\\IDC_regular_ps50_idx5\\\\16554\\\\0', 'archive\\\\IDC_regular_ps50_idx5\\\\16554\\\\1', 'archive\\\\IDC_regular_ps50_idx5\\\\16555\\\\0', 'archive\\\\IDC_regular_ps50_idx5\\\\16555\\\\1', 'archive\\\\IDC_regular_ps50_idx5\\\\16568\\\\0', 'archive\\\\IDC_regular_ps50_idx5\\\\16568\\\\1', 'archive\\\\IDC_regular_ps50_idx5\\\\16569\\\\0', 'archive\\\\IDC_regular_ps50_idx5\\\\16569\\\\1', 'archive\\\\IDC_regular_ps50_idx5\\\\16570\\\\0', 'archive\\\\IDC_regular_ps50_idx5\\\\16570\\\\1', 'archive\\\\IDC_regular_ps50_idx5\\\\16895\\\\0', 'archive\\\\IDC_regular_ps50_idx5\\\\16895\\\\1', 'archive\\\\IDC_regular_ps50_idx5\\\\16896\\\\0', 'archive\\\\IDC_regular_ps50_idx5\\\\16896\\\\1', 'archive\\\\IDC_regular_ps50_idx5\\\\8863\\\\0', 'archive\\\\IDC_regular_ps50_idx5\\\\8863\\\\1', 'archive\\\\IDC_regular_ps50_idx5\\\\8864\\\\0', 'archive\\\\IDC_regular_ps50_idx5\\\\8864\\\\1', 'archive\\\\IDC_regular_ps50_idx5\\\\8865\\\\0', 'archive\\\\IDC_regular_ps50_idx5\\\\8865\\\\1', 'archive\\\\IDC_regular_ps50_idx5\\\\8867\\\\0', 'archive\\\\IDC_regular_ps50_idx5\\\\8867\\\\1', 'archive\\\\IDC_regular_ps50_idx5\\\\8913\\\\0', 'archive\\\\IDC_regular_ps50_idx5\\\\8913\\\\1', 'archive\\\\IDC_regular_ps50_idx5\\\\8914\\\\0', 'archive\\\\IDC_regular_ps50_idx5\\\\8914\\\\1', 'archive\\\\IDC_regular_ps50_idx5\\\\8916\\\\0', 'archive\\\\IDC_regular_ps50_idx5\\\\8916\\\\1', 'archive\\\\IDC_regular_ps50_idx5\\\\8917\\\\0', 'archive\\\\IDC_regular_ps50_idx5\\\\8917\\\\1', 'archive\\\\IDC_regular_ps50_idx5\\\\8918\\\\0', 'archive\\\\IDC_regular_ps50_idx5\\\\8918\\\\1', 'archive\\\\IDC_regular_ps50_idx5\\\\8950\\\\0', 'archive\\\\IDC_regular_ps50_idx5\\\\8950\\\\1', 'archive\\\\IDC_regular_ps50_idx5\\\\8951\\\\0', 'archive\\\\IDC_regular_ps50_idx5\\\\8951\\\\1', 'archive\\\\IDC_regular_ps50_idx5\\\\8955\\\\0', 'archive\\\\IDC_regular_ps50_idx5\\\\8955\\\\1', 'archive\\\\IDC_regular_ps50_idx5\\\\8956\\\\0', 'archive\\\\IDC_regular_ps50_idx5\\\\8956\\\\1', 'archive\\\\IDC_regular_ps50_idx5\\\\8957\\\\0', 'archive\\\\IDC_regular_ps50_idx5\\\\8957\\\\1', 'archive\\\\IDC_regular_ps50_idx5\\\\8959\\\\0', 'archive\\\\IDC_regular_ps50_idx5\\\\8959\\\\1', 'archive\\\\IDC_regular_ps50_idx5\\\\8974\\\\0', 'archive\\\\IDC_regular_ps50_idx5\\\\8974\\\\1', 'archive\\\\IDC_regular_ps50_idx5\\\\8975\\\\0', 'archive\\\\IDC_regular_ps50_idx5\\\\8975\\\\1', 'archive\\\\IDC_regular_ps50_idx5\\\\8980\\\\0', 'archive\\\\IDC_regular_ps50_idx5\\\\8980\\\\1', 'archive\\\\IDC_regular_ps50_idx5\\\\8984\\\\0', 'archive\\\\IDC_regular_ps50_idx5\\\\8984\\\\1', 'archive\\\\IDC_regular_ps50_idx5\\\\9022\\\\0', 'archive\\\\IDC_regular_ps50_idx5\\\\9022\\\\1', 'archive\\\\IDC_regular_ps50_idx5\\\\9023\\\\0', 'archive\\\\IDC_regular_ps50_idx5\\\\9023\\\\1', 'archive\\\\IDC_regular_ps50_idx5\\\\9029\\\\0', 'archive\\\\IDC_regular_ps50_idx5\\\\9029\\\\1', 'archive\\\\IDC_regular_ps50_idx5\\\\9035\\\\0', 'archive\\\\IDC_regular_ps50_idx5\\\\9035\\\\1', 'archive\\\\IDC_regular_ps50_idx5\\\\9036\\\\0', 'archive\\\\IDC_regular_ps50_idx5\\\\9036\\\\1', 'archive\\\\IDC_regular_ps50_idx5\\\\9037\\\\0', 'archive\\\\IDC_regular_ps50_idx5\\\\9037\\\\1', 'archive\\\\IDC_regular_ps50_idx5\\\\9041\\\\0', 'archive\\\\IDC_regular_ps50_idx5\\\\9041\\\\1', 'archive\\\\IDC_regular_ps50_idx5\\\\9043\\\\0', 'archive\\\\IDC_regular_ps50_idx5\\\\9043\\\\1', 'archive\\\\IDC_regular_ps50_idx5\\\\9044\\\\0', 'archive\\\\IDC_regular_ps50_idx5\\\\9044\\\\1', 'archive\\\\IDC_regular_ps50_idx5\\\\9073\\\\0', 'archive\\\\IDC_regular_ps50_idx5\\\\9073\\\\1', 'archive\\\\IDC_regular_ps50_idx5\\\\9075\\\\0', 'archive\\\\IDC_regular_ps50_idx5\\\\9075\\\\1', 'archive\\\\IDC_regular_ps50_idx5\\\\9076\\\\0', 'archive\\\\IDC_regular_ps50_idx5\\\\9076\\\\1', 'archive\\\\IDC_regular_ps50_idx5\\\\9077\\\\0', 'archive\\\\IDC_regular_ps50_idx5\\\\9077\\\\1', 'archive\\\\IDC_regular_ps50_idx5\\\\9078\\\\0', 'archive\\\\IDC_regular_ps50_idx5\\\\9078\\\\1', 'archive\\\\IDC_regular_ps50_idx5\\\\9081\\\\0', 'archive\\\\IDC_regular_ps50_idx5\\\\9081\\\\1', 'archive\\\\IDC_regular_ps50_idx5\\\\9083\\\\0', 'archive\\\\IDC_regular_ps50_idx5\\\\9083\\\\1', 'archive\\\\IDC_regular_ps50_idx5\\\\9123\\\\0', 'archive\\\\IDC_regular_ps50_idx5\\\\9123\\\\1', 'archive\\\\IDC_regular_ps50_idx5\\\\9124\\\\0', 'archive\\\\IDC_regular_ps50_idx5\\\\9124\\\\1', 'archive\\\\IDC_regular_ps50_idx5\\\\9125\\\\0', 'archive\\\\IDC_regular_ps50_idx5\\\\9125\\\\1', 'archive\\\\IDC_regular_ps50_idx5\\\\9126\\\\0', 'archive\\\\IDC_regular_ps50_idx5\\\\9126\\\\1', 'archive\\\\IDC_regular_ps50_idx5\\\\9135\\\\0', 'archive\\\\IDC_regular_ps50_idx5\\\\9135\\\\1', 'archive\\\\IDC_regular_ps50_idx5\\\\9173\\\\0', 'archive\\\\IDC_regular_ps50_idx5\\\\9173\\\\1', 'archive\\\\IDC_regular_ps50_idx5\\\\9174\\\\0', 'archive\\\\IDC_regular_ps50_idx5\\\\9174\\\\1', 'archive\\\\IDC_regular_ps50_idx5\\\\9175\\\\0', 'archive\\\\IDC_regular_ps50_idx5\\\\9175\\\\1', 'archive\\\\IDC_regular_ps50_idx5\\\\9176\\\\0', 'archive\\\\IDC_regular_ps50_idx5\\\\9176\\\\1', 'archive\\\\IDC_regular_ps50_idx5\\\\9177\\\\0', 'archive\\\\IDC_regular_ps50_idx5\\\\9177\\\\1', 'archive\\\\IDC_regular_ps50_idx5\\\\9178\\\\0', 'archive\\\\IDC_regular_ps50_idx5\\\\9178\\\\1', 'archive\\\\IDC_regular_ps50_idx5\\\\9181\\\\0', 'archive\\\\IDC_regular_ps50_idx5\\\\9181\\\\1', 'archive\\\\IDC_regular_ps50_idx5\\\\9225\\\\0', 'archive\\\\IDC_regular_ps50_idx5\\\\9225\\\\1', 'archive\\\\IDC_regular_ps50_idx5\\\\9226\\\\0', 'archive\\\\IDC_regular_ps50_idx5\\\\9226\\\\1', 'archive\\\\IDC_regular_ps50_idx5\\\\9227\\\\0', 'archive\\\\IDC_regular_ps50_idx5\\\\9227\\\\1', 'archive\\\\IDC_regular_ps50_idx5\\\\9228\\\\0', 'archive\\\\IDC_regular_ps50_idx5\\\\9228\\\\1', 'archive\\\\IDC_regular_ps50_idx5\\\\9250\\\\0', 'archive\\\\IDC_regular_ps50_idx5\\\\9250\\\\1', 'archive\\\\IDC_regular_ps50_idx5\\\\9254\\\\0', 'archive\\\\IDC_regular_ps50_idx5\\\\9254\\\\1', 'archive\\\\IDC_regular_ps50_idx5\\\\9255\\\\0', 'archive\\\\IDC_regular_ps50_idx5\\\\9255\\\\1', 'archive\\\\IDC_regular_ps50_idx5\\\\9256\\\\0', 'archive\\\\IDC_regular_ps50_idx5\\\\9256\\\\1', 'archive\\\\IDC_regular_ps50_idx5\\\\9257\\\\0', 'archive\\\\IDC_regular_ps50_idx5\\\\9257\\\\1', 'archive\\\\IDC_regular_ps50_idx5\\\\9258\\\\0', 'archive\\\\IDC_regular_ps50_idx5\\\\9258\\\\1', 'archive\\\\IDC_regular_ps50_idx5\\\\9259\\\\0', 'archive\\\\IDC_regular_ps50_idx5\\\\9259\\\\1', 'archive\\\\IDC_regular_ps50_idx5\\\\9260\\\\0', 'archive\\\\IDC_regular_ps50_idx5\\\\9260\\\\1', 'archive\\\\IDC_regular_ps50_idx5\\\\9261\\\\0', 'archive\\\\IDC_regular_ps50_idx5\\\\9261\\\\1', 'archive\\\\IDC_regular_ps50_idx5\\\\9262\\\\0', 'archive\\\\IDC_regular_ps50_idx5\\\\9262\\\\1', 'archive\\\\IDC_regular_ps50_idx5\\\\9265\\\\0', 'archive\\\\IDC_regular_ps50_idx5\\\\9265\\\\1', 'archive\\\\IDC_regular_ps50_idx5\\\\9266\\\\0', 'archive\\\\IDC_regular_ps50_idx5\\\\9266\\\\1', 'archive\\\\IDC_regular_ps50_idx5\\\\9267\\\\0', 'archive\\\\IDC_regular_ps50_idx5\\\\9267\\\\1', 'archive\\\\IDC_regular_ps50_idx5\\\\9290\\\\0', 'archive\\\\IDC_regular_ps50_idx5\\\\9290\\\\1', 'archive\\\\IDC_regular_ps50_idx5\\\\9291\\\\0', 'archive\\\\IDC_regular_ps50_idx5\\\\9291\\\\1', 'archive\\\\IDC_regular_ps50_idx5\\\\9319\\\\0', 'archive\\\\IDC_regular_ps50_idx5\\\\9319\\\\1', 'archive\\\\IDC_regular_ps50_idx5\\\\9320\\\\0', 'archive\\\\IDC_regular_ps50_idx5\\\\9320\\\\1', 'archive\\\\IDC_regular_ps50_idx5\\\\9321\\\\0', 'archive\\\\IDC_regular_ps50_idx5\\\\9321\\\\1', 'archive\\\\IDC_regular_ps50_idx5\\\\9322\\\\0', 'archive\\\\IDC_regular_ps50_idx5\\\\9322\\\\1', 'archive\\\\IDC_regular_ps50_idx5\\\\9323\\\\0', 'archive\\\\IDC_regular_ps50_idx5\\\\9323\\\\1', 'archive\\\\IDC_regular_ps50_idx5\\\\9324\\\\0', 'archive\\\\IDC_regular_ps50_idx5\\\\9324\\\\1', 'archive\\\\IDC_regular_ps50_idx5\\\\9325\\\\0', 'archive\\\\IDC_regular_ps50_idx5\\\\9325\\\\1', 'archive\\\\IDC_regular_ps50_idx5\\\\9344\\\\0', 'archive\\\\IDC_regular_ps50_idx5\\\\9344\\\\1', 'archive\\\\IDC_regular_ps50_idx5\\\\9345\\\\0', 'archive\\\\IDC_regular_ps50_idx5\\\\9345\\\\1', 'archive\\\\IDC_regular_ps50_idx5\\\\9346\\\\0', 'archive\\\\IDC_regular_ps50_idx5\\\\9346\\\\1', 'archive\\\\IDC_regular_ps50_idx5\\\\9347\\\\0', 'archive\\\\IDC_regular_ps50_idx5\\\\9347\\\\1', 'archive\\\\IDC_regular_ps50_idx5\\\\9381\\\\0', 'archive\\\\IDC_regular_ps50_idx5\\\\9381\\\\1', 'archive\\\\IDC_regular_ps50_idx5\\\\9382\\\\0', 'archive\\\\IDC_regular_ps50_idx5\\\\9382\\\\1', 'archive\\\\IDC_regular_ps50_idx5\\\\9383\\\\0', 'archive\\\\IDC_regular_ps50_idx5\\\\9383\\\\1']\n",
      "280\n"
     ]
    }
   ],
   "source": [
    "# loading all the image locations \n",
    "# patient_list(archive/patient_class)/0 or 1()/image\n",
    "all_image=[]\n",
    "for i in range(len(patient_list)):\n",
    "#     print(patient_list[i])\n",
    "#     print(glob.glob(patient_list[i]+'/*/*'))\n",
    "    if i==279:\n",
    "        print(glob.glob(patient_list[i]+'/*/*'))\n",
    "    all_image.append(glob.glob(patient_list[i]+'/*/*'))\n",
    "\n",
    "print(len(all_image))\n",
    "# print(all_image)"
   ]
  },
  {
   "cell_type": "code",
   "execution_count": 5,
   "metadata": {},
   "outputs": [
    {
     "name": "stderr",
     "output_type": "stream",
     "text": [
      "IOPub data rate exceeded.\n",
      "The Jupyter server will temporarily stop sending output\n",
      "to the client in order to avoid crashing it.\n",
      "To change this limit, set the config variable\n",
      "`--ServerApp.iopub_data_rate_limit`.\n",
      "\n",
      "Current values:\n",
      "ServerApp.iopub_data_rate_limit=1000000.0 (bytes/sec)\n",
      "ServerApp.rate_limit_window=3.0 (secs)\n",
      "\n"
     ]
    }
   ],
   "source": [
    "print(all_image)"
   ]
  },
  {
   "cell_type": "code",
   "execution_count": 6,
   "metadata": {},
   "outputs": [
    {
     "ename": "IndexError",
     "evalue": "list index out of range",
     "output_type": "error",
     "traceback": [
      "\u001b[1;31m---------------------------------------------------------------------------\u001b[0m",
      "\u001b[1;31mIndexError\u001b[0m                                Traceback (most recent call last)",
      "\u001b[1;32m~\\AppData\\Local\\Temp/ipykernel_8908/575807258.py\u001b[0m in \u001b[0;36m<module>\u001b[1;34m\u001b[0m\n\u001b[0;32m      6\u001b[0m \u001b[0mimg_sample\u001b[0m \u001b[1;33m=\u001b[0m \u001b[0mimread\u001b[0m\u001b[1;33m(\u001b[0m\u001b[0mall_image\u001b[0m\u001b[1;33m[\u001b[0m\u001b[1;36m0\u001b[0m\u001b[1;33m]\u001b[0m\u001b[1;33m[\u001b[0m\u001b[1;36m0\u001b[0m\u001b[1;33m]\u001b[0m\u001b[1;33m)\u001b[0m\u001b[1;33m\u001b[0m\u001b[1;33m\u001b[0m\u001b[0m\n\u001b[0;32m      7\u001b[0m plt.title('patienID:'\n\u001b[1;32m----> 8\u001b[1;33m           \u001b[1;33m+\u001b[0m\u001b[0mstr\u001b[0m\u001b[1;33m(\u001b[0m\u001b[0mall_image\u001b[0m\u001b[1;33m[\u001b[0m\u001b[1;36m2\u001b[0m\u001b[1;33m]\u001b[0m\u001b[1;33m[\u001b[0m\u001b[1;36m0\u001b[0m\u001b[1;33m]\u001b[0m\u001b[1;33m.\u001b[0m\u001b[0msplit\u001b[0m\u001b[1;33m(\u001b[0m\u001b[1;34m'/'\u001b[0m\u001b[1;33m)\u001b[0m\u001b[1;33m[\u001b[0m\u001b[1;36m1\u001b[0m\u001b[1;33m]\u001b[0m\u001b[1;33m)\u001b[0m\u001b[1;33m+\u001b[0m\u001b[1;34m'\\n'\u001b[0m\u001b[1;33m\u001b[0m\u001b[1;33m\u001b[0m\u001b[0m\n\u001b[0m\u001b[0;32m      9\u001b[0m          'class:'+str(all_image[2][0].split('/')[2]))\n\u001b[0;32m     10\u001b[0m \u001b[0mplt\u001b[0m\u001b[1;33m.\u001b[0m\u001b[0mimshow\u001b[0m\u001b[1;33m(\u001b[0m\u001b[0mimg_sample\u001b[0m\u001b[1;33m)\u001b[0m\u001b[1;33m\u001b[0m\u001b[1;33m\u001b[0m\u001b[0m\n",
      "\u001b[1;31mIndexError\u001b[0m: list index out of range"
     ]
    }
   ],
   "source": [
    "# sample\n",
    "import skimage\n",
    "from skimage.io import imread , imread_collection \n",
    "import matplotlib.pyplot as plt\n",
    "# print((all_image[0]))\n",
    "img_sample = imread(all_image[0][0])\n",
    "plt.title('patienID:'\n",
    "          +str(all_image[2][0].split('/')[1])+'\\n'\n",
    "         'class:'+str(all_image[2][0].split('/')[2]))\n",
    "plt.imshow(img_sample)"
   ]
  },
  {
   "cell_type": "code",
   "execution_count": null,
   "metadata": {},
   "outputs": [],
   "source": [
    "# creating dataframe\n",
    "patient_id=[all_image[i][j].split('/')[1] for i in range(0,len(all_image)) for j in range(0,len(all_image[i]))]\n",
    "# print(patient_id)\n",
    "class_test=[all_image[i][j].split('/')[2] for i in range(0,len(all_image)) for j in range(0,len(all_image[i]))]\n",
    "# print(class_test)\n",
    "patient_pathes = [all_image[i][x]for i in range(0,len(all_image))for x in range(0,len(all_image[i]))]\n"
   ]
  },
  {
   "cell_type": "code",
   "execution_count": null,
   "metadata": {},
   "outputs": [],
   "source": [
    "df_original=pd.DataFrame({\n",
    "    'Patient ID':patient_id,\n",
    "    'Diagnosis':class_test,\n",
    "    'Pathes':patient_pathes\n",
    "})"
   ]
  },
  {
   "cell_type": "code",
   "execution_count": null,
   "metadata": {},
   "outputs": [],
   "source": [
    "df_original.to_csv('Original_data.csv')"
   ]
  },
  {
   "cell_type": "code",
   "execution_count": null,
   "metadata": {},
   "outputs": [],
   "source": [
    "df_original=pd.read_csv('Original_data.csv')\n",
    "df_original.head(n=1)"
   ]
  },
  {
   "cell_type": "code",
   "execution_count": null,
   "metadata": {},
   "outputs": [],
   "source": [
    "df_original=df_original.drop(labels='Unnamed: 0',axis=1)\n",
    "df_original.head(n=1)"
   ]
  },
  {
   "cell_type": "markdown",
   "metadata": {},
   "source": [
    "<b>train test split</b>"
   ]
  },
  {
   "cell_type": "code",
   "execution_count": null,
   "metadata": {},
   "outputs": [],
   "source": [
    "from sklearn.model_selection import train_test_split\n",
    "df_train,df_test=train_test_split(df_original,test_size=0.4,)"
   ]
  },
  {
   "cell_type": "code",
   "execution_count": null,
   "metadata": {},
   "outputs": [],
   "source": [
    "df_train.to_csv('train_data.csv')\n",
    "df_test.to_csv('test_data.csv')"
   ]
  },
  {
   "cell_type": "code",
   "execution_count": null,
   "metadata": {},
   "outputs": [],
   "source": [
    "df_train=pd.read_csv('train_data.csv')\n",
    "print(len(df_train))\n",
    "df_train.head(n=1)"
   ]
  },
  {
   "cell_type": "code",
   "execution_count": null,
   "metadata": {},
   "outputs": [],
   "source": [
    "# df_train=df_train.drop(labels='Unnamed: 0.1',axis=1)\n",
    "df_train=df_train.drop(labels='Unnamed: 0',axis=1)\n",
    "df_train.head(n=1)"
   ]
  },
  {
   "cell_type": "markdown",
   "metadata": {},
   "source": [
    "<b>random sampling from train</b>"
   ]
  },
  {
   "cell_type": "markdown",
   "metadata": {},
   "source": [
    "<p style=\"color:yellow\">preloaded random samples from train</p>"
   ]
  },
  {
   "cell_type": "code",
   "execution_count": null,
   "metadata": {},
   "outputs": [],
   "source": [
    "# skip this for the first time\n",
    "random_train=pd.read_csv('random_train.csv')\n",
    "random_train.head(n=1)\n",
    "# random_train=random_train.drop( labels='Unnamed: 0',axis=1)"
   ]
  },
  {
   "cell_type": "markdown",
   "metadata": {},
   "source": [
    "<p style=\"color:yellow\">new random sample generation</p>"
   ]
  },
  {
   "cell_type": "code",
   "execution_count": null,
   "metadata": {},
   "outputs": [],
   "source": [
    "import random\n",
    "# train_index=pd.r\n",
    "random_index=random.sample(range(0,len(df_train)),10000)\n",
    "random_train=df_train.loc[random_index]\n",
    "print(len(random_train))\n",
    "random_train.head(n=1)"
   ]
  },
  {
   "cell_type": "code",
   "execution_count": null,
   "metadata": {},
   "outputs": [],
   "source": [
    "# random_train['Pixels']=random_train=random_train.drop( labels='Unnamed: 0',axis=1)\n",
    "# random_train['Pixels']=random_train\n",
    "# random_train=random_train.drop( labels='Unnamed: 0.1',axis=1)"
   ]
  },
  {
   "cell_type": "code",
   "execution_count": null,
   "metadata": {},
   "outputs": [],
   "source": [
    "random_train=random_train.drop( labels='Unnamed: 0',axis=1)"
   ]
  },
  {
   "cell_type": "code",
   "execution_count": null,
   "metadata": {},
   "outputs": [],
   "source": [
    "# original image shape (50,50,3)\n",
    "from PIL.Image import open\n",
    "# random_train['Pixels']=np.array(random_train['Pathes'].map(lambda x:np.asarray(open(x).resize((128,128)))))\n",
    "random_train['Pixels']=random_train['Pathes'].map(lambda x:np.asarray(open(x).resize((128,128))))"
   ]
  },
  {
   "cell_type": "code",
   "execution_count": null,
   "metadata": {},
   "outputs": [],
   "source": [
    "random_train.to_csv('random_train.csv')\n",
    "random_train.head(n=6)"
   ]
  },
  {
   "cell_type": "code",
   "execution_count": null,
   "metadata": {},
   "outputs": [],
   "source": [
    "bm_quantity=random_train['Diagnosis'].value_counts()\n",
    "print(bm_quantity)\n",
    "bm_quantity.plot.bar(\n",
    "  color=['g','r']\n",
    ")"
   ]
  },
  {
   "cell_type": "code",
   "execution_count": null,
   "metadata": {},
   "outputs": [],
   "source": [
    "X_train=random_train['Pixels']\n",
    "y=np.array(random_train['Diagnosis'])"
   ]
  },
  {
   "cell_type": "code",
   "execution_count": null,
   "metadata": {},
   "outputs": [],
   "source": [
    "print(type(y))\n",
    "print(y)"
   ]
  },
  {
   "cell_type": "markdown",
   "metadata": {},
   "source": [
    "<b>to balance the distribution at first flatten the image, then smote, then back to original shape</b>"
   ]
  },
  {
   "cell_type": "code",
   "execution_count": null,
   "metadata": {},
   "outputs": [],
   "source": [
    "# training set\n",
    "# preprocessing dataset\n",
    "from keras.preprocessing.image import img_to_array\n",
    "from keras.applications.mobilenet_v2 import preprocess_input\n",
    "img_list = []\n",
    "for i in range (0,len(X_train)):\n",
    "    brain_img =np.array(X_train)[i]\n",
    "    img_arr = img_to_array(brain_img).astype(np.float32)\n",
    "    img_list.append(preprocess_input(img_arr))\n",
    "X_scaled = np.array(img_list)\n",
    "\n",
    "print(X_scaled.shape)"
   ]
  },
  {
   "cell_type": "code",
   "execution_count": null,
   "metadata": {},
   "outputs": [],
   "source": [
    "X_train_shape = X_scaled.shape[1]*X_scaled.shape[2]*X_scaled.shape[3]\n",
    "X_Flatten = X_scaled.reshape(X_scaled.shape[0],X_train_shape)"
   ]
  },
  {
   "cell_type": "code",
   "execution_count": null,
   "metadata": {},
   "outputs": [],
   "source": [
    "# start resampling via smote\n",
    "from imblearn.over_sampling import SMOTE\n",
    "sm = SMOTE(random_state=0)\n",
    "x_sm,y_sm = sm.fit_sample(X_Flatten,y)"
   ]
  },
  {
   "cell_type": "code",
   "execution_count": null,
   "metadata": {},
   "outputs": [],
   "source": [
    "print('The size of our dataset after oversampling:'+' '+str(y_sm.shape[0]))"
   ]
  },
  {
   "cell_type": "code",
   "execution_count": null,
   "metadata": {},
   "outputs": [],
   "source": [
    "import seaborn as sns\n",
    "sns.countplot(y_sm)"
   ]
  },
  {
   "cell_type": "code",
   "execution_count": null,
   "metadata": {},
   "outputs": [],
   "source": [
    "row,col,channel = 128 ,128 , 3 \n",
    "X_sm_reshaped = x_sm.reshape(len(x_sm),row,col,channel)\n",
    "# chec the shape of our training set\n",
    "print('The shape of the training set after reshape it :'+\" \"+str(X_sm_reshaped.shape))"
   ]
  },
  {
   "cell_type": "markdown",
   "metadata": {},
   "source": [
    "<b>model</b>"
   ]
  },
  {
   "cell_type": "code",
   "execution_count": null,
   "metadata": {},
   "outputs": [],
   "source": [
    "from keras.models import Sequential\n",
    "from keras.layers import Dense , GlobalAveragePooling2D\n",
    "from keras.applications import MobileNetV2\n",
    "num_classes = 1\n",
    "model = Sequential([\n",
    "     MobileNetV2(input_shape=(224,224,3),weights=\"imagenet\",include_top=False), \n",
    "     GlobalAveragePooling2D(),\n",
    "     Dense(num_classes, activation='sigmoid',name='preds'),\n",
    "])\n",
    "model.layers[0].trainable= False\n",
    "# show model summary\n",
    "model.summary()"
   ]
  },
  {
   "cell_type": "code",
   "execution_count": null,
   "metadata": {},
   "outputs": [],
   "source": [
    "import keras\n",
    "model.compile(optimizer='adam',\n",
    "             loss=keras.losses.binary_crossentropy,\n",
    "             metrics=['accuracy'])\n",
    "model.fit(X_sm_reshaped,y_sm\n",
    "          ,epochs=20,verbose=1)"
   ]
  },
  {
   "cell_type": "code",
   "execution_count": null,
   "metadata": {},
   "outputs": [],
   "source": [
    "df_test=pd.read_csv('test_data.csv')\n",
    "df_test.head(n=1)"
   ]
  },
  {
   "cell_type": "code",
   "execution_count": null,
   "metadata": {},
   "outputs": [],
   "source": [
    "df_test=df_test.drop(labels='Unnamed: 0',axis=1)\n",
    "df_test.head(n=1)"
   ]
  },
  {
   "cell_type": "code",
   "execution_count": null,
   "metadata": {},
   "outputs": [],
   "source": [
    "import random\n",
    "# train_index=pd.r\n",
    "random_index=random.sample(range(0,len(df_test)),2000)\n",
    "random_test=df_test.loc[random_index]\n",
    "print(len(random_test))\n",
    "random_test.head(n=1)"
   ]
  },
  {
   "cell_type": "code",
   "execution_count": null,
   "metadata": {},
   "outputs": [],
   "source": [
    "random_test=random_test.drop( labels='Pixels',axis=1)\n",
    "random_test.head(n=1)"
   ]
  },
  {
   "cell_type": "code",
   "execution_count": null,
   "metadata": {},
   "outputs": [],
   "source": [
    "# from PIL.Image import open\n",
    "# random_train['Pixels']=np.array(random_train['Pathes'].map(lambda x:np.asarray(open(x).resize((128,128)))))\n",
    "random_test['Pixels']=random_test['Pathes'].map(lambda x:np.asarray(open(x).resize((128,128))))"
   ]
  },
  {
   "cell_type": "code",
   "execution_count": null,
   "metadata": {},
   "outputs": [],
   "source": [
    "X_test=random_test['Pixels']\n",
    "y_test=np.array(random_test['Diagnosis'])"
   ]
  },
  {
   "cell_type": "code",
   "execution_count": null,
   "metadata": {},
   "outputs": [],
   "source": [
    "img_list = []\n",
    "for i in range (0,len(X_test)):\n",
    "    brain_img =np.array(X_test)[i]\n",
    "    img_arr = img_to_array(brain_img).astype(np.float32)\n",
    "    img_list.append(preprocess_input(img_arr))\n",
    "X_scaled_test = np.array(img_list)\n",
    "print(X_scaled_test.shape)"
   ]
  },
  {
   "cell_type": "code",
   "execution_count": null,
   "metadata": {},
   "outputs": [],
   "source": [
    "eval_score = model.evaluate(X_scaled_test,y_test)\n",
    "print('The loss of the evaluation :'+' '+str(eval_score[0]*100))\n",
    "print('The accuracy of the evaluation :'+' '+str(eval_score[1]*100))"
   ]
  },
  {
   "cell_type": "code",
   "execution_count": null,
   "metadata": {},
   "outputs": [],
   "source": [
    "from sklearn.metrics import classification_report , confusion_matrix\n",
    "y_pred = model.predict_classes(X_scaled_test)\n",
    "print(y_pred)"
   ]
  },
  {
   "cell_type": "code",
   "execution_count": null,
   "metadata": {},
   "outputs": [],
   "source": []
  }
 ],
 "metadata": {
  "kernelspec": {
   "display_name": "Python 3 (ipykernel)",
   "language": "python",
   "name": "python3"
  },
  "language_info": {
   "codemirror_mode": {
    "name": "ipython",
    "version": 3
   },
   "file_extension": ".py",
   "mimetype": "text/x-python",
   "name": "python",
   "nbconvert_exporter": "python",
   "pygments_lexer": "ipython3",
   "version": "3.9.7"
  }
 },
 "nbformat": 4,
 "nbformat_minor": 4
}
